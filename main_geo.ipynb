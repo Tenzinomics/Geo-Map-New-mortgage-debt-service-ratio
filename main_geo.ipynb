{
 "cells": [
  {
   "cell_type": "code",
   "execution_count": 1,
   "metadata": {},
   "outputs": [],
   "source": [
    "import pandas as pd\n",
    "import plotly.express as px\n",
    "import json\n",
    "import numpy as np"
   ]
  },
  {
   "cell_type": "code",
   "execution_count": 2,
   "metadata": {},
   "outputs": [],
   "source": [
    "filename = 'Average_New_Mort_Can.xlsx'\n",
    "filename_income = 'Canada_median_income.xlsx'\n",
    "\n",
    "\n",
    "xls=pd.ExcelFile(filename) \n",
    "df = pd.read_excel(xls)\n",
    "\n",
    "xls_income=pd.ExcelFile(filename_income) \n",
    "df_income = pd.read_excel(xls_income)"
   ]
  },
  {
   "cell_type": "code",
   "execution_count": 3,
   "metadata": {},
   "outputs": [],
   "source": [
    "#MOrtgage rates are normally quoted on semianual basis. To find the monthly payments you have to convert to monthly rates\n",
    "#Converting SemiAnually rate to Quarterly Rate conversion\n",
    "df['rate_q4'] = ((1+(df['mort_rate_avg_quart']/200))**(1/2)-1)*4\n",
    "\n",
    "n = 25 #Mortagae term\n",
    "\n",
    "#Ammortization\n",
    "df['mort_pay_q4'] = df['Avg_New_Mort']/((1-(1+df['rate_q4']/4)**(-n*4))/(df['rate_q4']/4))\n"
   ]
  },
  {
   "cell_type": "code",
   "execution_count": 4,
   "metadata": {},
   "outputs": [],
   "source": [
    "years = df_income['Year'].unique()\n",
    "df['quart_income'] = 0\n",
    "\n",
    "provinces = ['Alberta', 'British Columbia', 'Manitoba', 'New Brunswick',\n",
    "       'Newfoundland', 'Nova Scotia', 'Ontario', 'Prince Edward Island',\n",
    "       'Québec', 'Saskatchewan']\n",
    "\n",
    "for prov in provinces[:]:\n",
    "    for y in years:\n",
    "        income = df_income.loc[(df_income['Prov'] == prov) & (df_income['Year'] == y)]['Median Income'].values[0]  \n",
    "        df.loc[((df['Provinces'] == prov) & (df['date'].str[:4] == str(y))), \"quart_income\"] = int(income/4)  \n",
    "\n",
    "#Calculating Portion of Income Devoted towards paying off mortgages\n",
    "df['mort_income_port'] = (df['mort_pay_q4']/df['quart_income'])*100"
   ]
  },
  {
   "cell_type": "code",
   "execution_count": 5,
   "metadata": {},
   "outputs": [],
   "source": [
    "df = df.replace(np.nan,0)\n",
    "df.loc[((df['date'].str[:4] == '2021') | (df['date'].str[:4] == '2022')), \"mort_income_port\"] = ''"
   ]
  },
  {
   "cell_type": "code",
   "execution_count": 6,
   "metadata": {},
   "outputs": [],
   "source": [
    "df.replace([np.inf, -np.inf, ''], np.nan, inplace=True)\n",
    "df = df.dropna()"
   ]
  },
  {
   "cell_type": "code",
   "execution_count": 7,
   "metadata": {},
   "outputs": [],
   "source": [
    "df['category'] = ''\n",
    "#categorizing the number of cases and assign each category to each row\n",
    "def set_cat(row):\n",
    "    if row['mort_income_port'] == 0:\n",
    "        return 'N/A'\n",
    "    if row['mort_income_port'] > 0 and row['mort_income_port'] < 11:\n",
    "        return '0 - 10'\n",
    "    if row['mort_income_port'] > 11 and row['mort_income_port'] < 21:\n",
    "        return '10 - 20'\n",
    "    if row['mort_income_port'] > 21 and row['mort_income_port'] < 31:\n",
    "        return '20 - 30'\n",
    "    if row['mort_income_port'] > 31 and row['mort_income_port'] < 41:\n",
    "        return '30 - 40'\n",
    "    if row['mort_income_port'] > 41:\n",
    "        return '40 +'\n",
    "\n",
    "df = df.assign(category=df.apply(set_cat, axis=1))"
   ]
  },
  {
   "cell_type": "code",
   "execution_count": 8,
   "metadata": {},
   "outputs": [
    {
     "data": {
      "text/html": [
       "<div>\n",
       "<style scoped>\n",
       "    .dataframe tbody tr th:only-of-type {\n",
       "        vertical-align: middle;\n",
       "    }\n",
       "\n",
       "    .dataframe tbody tr th {\n",
       "        vertical-align: top;\n",
       "    }\n",
       "\n",
       "    .dataframe thead th {\n",
       "        text-align: right;\n",
       "    }\n",
       "</style>\n",
       "<table border=\"1\" class=\"dataframe\">\n",
       "  <thead>\n",
       "    <tr style=\"text-align: right;\">\n",
       "      <th></th>\n",
       "      <th>date</th>\n",
       "      <th>cartodb_id</th>\n",
       "      <th>Provinces</th>\n",
       "      <th>Avg_New_Mort</th>\n",
       "      <th>mort_rate_avg_quart</th>\n",
       "      <th>rate_q4</th>\n",
       "      <th>mort_pay_q4</th>\n",
       "      <th>quart_income</th>\n",
       "      <th>mort_income_port</th>\n",
       "      <th>category</th>\n",
       "    </tr>\n",
       "  </thead>\n",
       "  <tbody>\n",
       "    <tr>\n",
       "      <th>22</th>\n",
       "      <td>2018Q1</td>\n",
       "      <td>4</td>\n",
       "      <td>Alberta</td>\n",
       "      <td>302814</td>\n",
       "      <td>4.223333</td>\n",
       "      <td>0.042013</td>\n",
       "      <td>4906.284779</td>\n",
       "      <td>19100</td>\n",
       "      <td>25.687355</td>\n",
       "      <td>20 - 30</td>\n",
       "    </tr>\n",
       "    <tr>\n",
       "      <th>23</th>\n",
       "      <td>2018Q2</td>\n",
       "      <td>4</td>\n",
       "      <td>Alberta</td>\n",
       "      <td>302116</td>\n",
       "      <td>4.313333</td>\n",
       "      <td>0.042903</td>\n",
       "      <td>4940.325801</td>\n",
       "      <td>19100</td>\n",
       "      <td>25.865580</td>\n",
       "      <td>20 - 30</td>\n",
       "    </tr>\n",
       "    <tr>\n",
       "      <th>24</th>\n",
       "      <td>2018Q3</td>\n",
       "      <td>4</td>\n",
       "      <td>Alberta</td>\n",
       "      <td>305101</td>\n",
       "      <td>4.426667</td>\n",
       "      <td>0.044024</td>\n",
       "      <td>5047.110330</td>\n",
       "      <td>19100</td>\n",
       "      <td>26.424661</td>\n",
       "      <td>20 - 30</td>\n",
       "    </tr>\n",
       "    <tr>\n",
       "      <th>25</th>\n",
       "      <td>2018Q4</td>\n",
       "      <td>4</td>\n",
       "      <td>Alberta</td>\n",
       "      <td>295839</td>\n",
       "      <td>4.483333</td>\n",
       "      <td>0.044585</td>\n",
       "      <td>4922.121909</td>\n",
       "      <td>19100</td>\n",
       "      <td>25.770272</td>\n",
       "      <td>20 - 30</td>\n",
       "    </tr>\n",
       "    <tr>\n",
       "      <th>61</th>\n",
       "      <td>2018Q1</td>\n",
       "      <td>6</td>\n",
       "      <td>British Columbia</td>\n",
       "      <td>384794</td>\n",
       "      <td>4.223333</td>\n",
       "      <td>0.042013</td>\n",
       "      <td>6234.549741</td>\n",
       "      <td>15225</td>\n",
       "      <td>40.949424</td>\n",
       "      <td>30 - 40</td>\n",
       "    </tr>\n",
       "  </tbody>\n",
       "</table>\n",
       "</div>"
      ],
      "text/plain": [
       "      date  cartodb_id         Provinces  Avg_New_Mort  mort_rate_avg_quart  \\\n",
       "22  2018Q1           4           Alberta        302814             4.223333   \n",
       "23  2018Q2           4           Alberta        302116             4.313333   \n",
       "24  2018Q3           4           Alberta        305101             4.426667   \n",
       "25  2018Q4           4           Alberta        295839             4.483333   \n",
       "61  2018Q1           6  British Columbia        384794             4.223333   \n",
       "\n",
       "     rate_q4  mort_pay_q4  quart_income  mort_income_port category  \n",
       "22  0.042013  4906.284779         19100         25.687355  20 - 30  \n",
       "23  0.042903  4940.325801         19100         25.865580  20 - 30  \n",
       "24  0.044024  5047.110330         19100         26.424661  20 - 30  \n",
       "25  0.044585  4922.121909         19100         25.770272  20 - 30  \n",
       "61  0.042013  6234.549741         15225         40.949424  30 - 40  "
      ]
     },
     "execution_count": 8,
     "metadata": {},
     "output_type": "execute_result"
    }
   ],
   "source": [
    "df.loc[((df['date'].str[:4] == '2018'))].head()"
   ]
  },
  {
   "cell_type": "code",
   "execution_count": 11,
   "metadata": {},
   "outputs": [
    {
     "data": {
      "application/vnd.plotly.v1+json": {
       "config": {
        "plotlyServerURL": "https://plot.ly"
       },
       "data": [
        {
         "colorscale": [
          [
           0,
           "#F2F2F2"
          ],
          [
           1,
           "#F2F2F2"
          ]
         ],
         "customdata": [
          [
           0,
           9
          ],
          [
           0,
           12
          ],
          [
           0,
           13
          ]
         ],
         "featureidkey": "properties.cartodb_id",
         "geo": "geo",
         "geojson": "https://raw.githubusercontent.com/Tenzinomics/click_that_hood/main/public/data/canada.geojson",
         "hovertemplate": "<b>%{hovertext}</b><br><br>Category=N/A<br>date=2012Q3<br> %=%{customdata[0]}<extra></extra>",
         "hovertext": [
          "Yukon",
          "Nunavut",
          "Northwest Territories"
         ],
         "locationmode": "geojson-id",
         "locations": [
          9,
          12,
          13
         ],
         "name": "N/A",
         "showlegend": true,
         "showscale": false,
         "type": "choropleth",
         "z": [
          1,
          1,
          1
         ]
        },
        {
         "colorscale": [
          [
           0,
           "#B0D1D9"
          ],
          [
           1,
           "#B0D1D9"
          ]
         ],
         "customdata": [
          [
           16.555445598557032,
           7
          ],
          [
           16.83011201251455,
           8
          ],
          [
           19.892236153229888,
           1
          ]
         ],
         "featureidkey": "properties.cartodb_id",
         "geo": "geo",
         "geojson": "https://raw.githubusercontent.com/Tenzinomics/click_that_hood/main/public/data/canada.geojson",
         "hovertemplate": "<b>%{hovertext}</b><br><br>Category=10 - 20<br>date=2012Q3<br> %=%{customdata[0]}<extra></extra>",
         "hovertext": [
          "New Brunswick",
          "Prince Edward Island",
          "Québec"
         ],
         "locationmode": "geojson-id",
         "locations": [
          7,
          8,
          1
         ],
         "name": "10 - 20",
         "showlegend": true,
         "showscale": false,
         "type": "choropleth",
         "z": [
          1,
          1,
          1
         ]
        },
        {
         "colorscale": [
          [
           0,
           "#8AA6BF"
          ],
          [
           1,
           "#8AA6BF"
          ]
         ],
         "customdata": [
          [
           24.327100888327553,
           4
          ],
          [
           21.364744521523043,
           10
          ],
          [
           22.272106912553753,
           5
          ],
          [
           21.806392244802055,
           2
          ],
          [
           25.89963772692808,
           11
          ],
          [
           22.555927075524792,
           3
          ]
         ],
         "featureidkey": "properties.cartodb_id",
         "geo": "geo",
         "geojson": "https://raw.githubusercontent.com/Tenzinomics/click_that_hood/main/public/data/canada.geojson",
         "hovertemplate": "<b>%{hovertext}</b><br><br>Category=20 - 30<br>date=2012Q3<br> %=%{customdata[0]}<extra></extra>",
         "hovertext": [
          "Alberta",
          "Manitoba",
          "Newfoundland",
          "Nova Scotia",
          "Ontario",
          "Saskatchewan"
         ],
         "locationmode": "geojson-id",
         "locations": [
          4,
          10,
          5,
          2,
          11,
          3
         ],
         "name": "20 - 30",
         "showlegend": true,
         "showscale": false,
         "type": "choropleth",
         "z": [
          1,
          1,
          1,
          1,
          1,
          1
         ]
        },
        {
         "colorscale": [
          [
           0,
           "#587AA6"
          ],
          [
           1,
           "#587AA6"
          ]
         ],
         "customdata": [
          [
           34.5938981602073,
           6
          ]
         ],
         "featureidkey": "properties.cartodb_id",
         "geo": "geo",
         "geojson": "https://raw.githubusercontent.com/Tenzinomics/click_that_hood/main/public/data/canada.geojson",
         "hovertemplate": "<b>%{hovertext}</b><br><br>Category=30 - 40<br>date=2012Q3<br> %=%{customdata[0]}<extra></extra>",
         "hovertext": [
          "British Columbia"
         ],
         "locationmode": "geojson-id",
         "locations": [
          6
         ],
         "name": "30 - 40",
         "showlegend": true,
         "showscale": false,
         "type": "choropleth",
         "z": [
          1
         ]
        }
       ],
       "frames": [
        {
         "data": [
          {
           "colorscale": [
            [
             0,
             "#F2F2F2"
            ],
            [
             1,
             "#F2F2F2"
            ]
           ],
           "customdata": [
            [
             0,
             9
            ],
            [
             0,
             12
            ],
            [
             0,
             13
            ]
           ],
           "featureidkey": "properties.cartodb_id",
           "geo": "geo",
           "geojson": "https://raw.githubusercontent.com/Tenzinomics/click_that_hood/main/public/data/canada.geojson",
           "hovertemplate": "<b>%{hovertext}</b><br><br>Category=N/A<br>date=2012Q3<br> %=%{customdata[0]}<extra></extra>",
           "hovertext": [
            "Yukon",
            "Nunavut",
            "Northwest Territories"
           ],
           "locationmode": "geojson-id",
           "locations": [
            9,
            12,
            13
           ],
           "name": "N/A",
           "showlegend": true,
           "showscale": false,
           "type": "choropleth",
           "z": [
            1,
            1,
            1
           ]
          },
          {
           "colorscale": [
            [
             0,
             "#B0D1D9"
            ],
            [
             1,
             "#B0D1D9"
            ]
           ],
           "customdata": [
            [
             16.555445598557032,
             7
            ],
            [
             16.83011201251455,
             8
            ],
            [
             19.892236153229888,
             1
            ]
           ],
           "featureidkey": "properties.cartodb_id",
           "geo": "geo",
           "geojson": "https://raw.githubusercontent.com/Tenzinomics/click_that_hood/main/public/data/canada.geojson",
           "hovertemplate": "<b>%{hovertext}</b><br><br>Category=10 - 20<br>date=2012Q3<br> %=%{customdata[0]}<extra></extra>",
           "hovertext": [
            "New Brunswick",
            "Prince Edward Island",
            "Québec"
           ],
           "locationmode": "geojson-id",
           "locations": [
            7,
            8,
            1
           ],
           "name": "10 - 20",
           "showlegend": true,
           "showscale": false,
           "type": "choropleth",
           "z": [
            1,
            1,
            1
           ]
          },
          {
           "colorscale": [
            [
             0,
             "#8AA6BF"
            ],
            [
             1,
             "#8AA6BF"
            ]
           ],
           "customdata": [
            [
             24.327100888327553,
             4
            ],
            [
             21.364744521523043,
             10
            ],
            [
             22.272106912553753,
             5
            ],
            [
             21.806392244802055,
             2
            ],
            [
             25.89963772692808,
             11
            ],
            [
             22.555927075524792,
             3
            ]
           ],
           "featureidkey": "properties.cartodb_id",
           "geo": "geo",
           "geojson": "https://raw.githubusercontent.com/Tenzinomics/click_that_hood/main/public/data/canada.geojson",
           "hovertemplate": "<b>%{hovertext}</b><br><br>Category=20 - 30<br>date=2012Q3<br> %=%{customdata[0]}<extra></extra>",
           "hovertext": [
            "Alberta",
            "Manitoba",
            "Newfoundland",
            "Nova Scotia",
            "Ontario",
            "Saskatchewan"
           ],
           "locationmode": "geojson-id",
           "locations": [
            4,
            10,
            5,
            2,
            11,
            3
           ],
           "name": "20 - 30",
           "showlegend": true,
           "showscale": false,
           "type": "choropleth",
           "z": [
            1,
            1,
            1,
            1,
            1,
            1
           ]
          },
          {
           "colorscale": [
            [
             0,
             "#587AA6"
            ],
            [
             1,
             "#587AA6"
            ]
           ],
           "customdata": [
            [
             34.5938981602073,
             6
            ]
           ],
           "featureidkey": "properties.cartodb_id",
           "geo": "geo",
           "geojson": "https://raw.githubusercontent.com/Tenzinomics/click_that_hood/main/public/data/canada.geojson",
           "hovertemplate": "<b>%{hovertext}</b><br><br>Category=30 - 40<br>date=2012Q3<br> %=%{customdata[0]}<extra></extra>",
           "hovertext": [
            "British Columbia"
           ],
           "locationmode": "geojson-id",
           "locations": [
            6
           ],
           "name": "30 - 40",
           "showlegend": true,
           "showscale": false,
           "type": "choropleth",
           "z": [
            1
           ]
          }
         ],
         "name": "2012Q3"
        },
        {
         "data": [
          {
           "colorscale": [
            [
             0,
             "#F2F2F2"
            ],
            [
             1,
             "#F2F2F2"
            ]
           ],
           "customdata": [
            [
             0,
             9
            ],
            [
             0,
             12
            ],
            [
             0,
             13
            ]
           ],
           "featureidkey": "properties.cartodb_id",
           "geo": "geo",
           "geojson": "https://raw.githubusercontent.com/Tenzinomics/click_that_hood/main/public/data/canada.geojson",
           "hovertemplate": "<b>%{hovertext}</b><br><br>Category=N/A<br>date=2012Q4<br> %=%{customdata[0]}<extra></extra>",
           "hovertext": [
            "Yukon",
            "Nunavut",
            "Northwest Territories"
           ],
           "locationmode": "geojson-id",
           "locations": [
            9,
            12,
            13
           ],
           "name": "N/A",
           "showlegend": true,
           "showscale": false,
           "type": "choropleth",
           "z": [
            1,
            1,
            1
           ]
          },
          {
           "colorscale": [
            [
             0,
             "#B0D1D9"
            ],
            [
             1,
             "#B0D1D9"
            ]
           ],
           "customdata": [
            [
             20.41424661372843,
             10
            ],
            [
             15.553697453050704,
             7
            ],
            [
             19.848864899840674,
             2
            ],
            [
             16.49861948975365,
             8
            ],
            [
             18.989652971721764,
             1
            ]
           ],
           "featureidkey": "properties.cartodb_id",
           "geo": "geo",
           "geojson": "https://raw.githubusercontent.com/Tenzinomics/click_that_hood/main/public/data/canada.geojson",
           "hovertemplate": "<b>%{hovertext}</b><br><br>Category=10 - 20<br>date=2012Q4<br> %=%{customdata[0]}<extra></extra>",
           "hovertext": [
            "Manitoba",
            "New Brunswick",
            "Nova Scotia",
            "Prince Edward Island",
            "Québec"
           ],
           "locationmode": "geojson-id",
           "locations": [
            10,
            7,
            2,
            8,
            1
           ],
           "name": "10 - 20",
           "showlegend": true,
           "showscale": false,
           "type": "choropleth",
           "z": [
            1,
            1,
            1,
            1,
            1
           ]
          },
          {
           "colorscale": [
            [
             0,
             "#8AA6BF"
            ],
            [
             1,
             "#8AA6BF"
            ]
           ],
           "customdata": [
            [
             23.75688109088409,
             4
            ],
            [
             21.782992884756446,
             5
            ],
            [
             24.505656043698025,
             11
            ],
            [
             21.913932020442157,
             3
            ]
           ],
           "featureidkey": "properties.cartodb_id",
           "geo": "geo",
           "geojson": "https://raw.githubusercontent.com/Tenzinomics/click_that_hood/main/public/data/canada.geojson",
           "hovertemplate": "<b>%{hovertext}</b><br><br>Category=20 - 30<br>date=2012Q4<br> %=%{customdata[0]}<extra></extra>",
           "hovertext": [
            "Alberta",
            "Newfoundland",
            "Ontario",
            "Saskatchewan"
           ],
           "locationmode": "geojson-id",
           "locations": [
            4,
            5,
            11,
            3
           ],
           "name": "20 - 30",
           "showlegend": true,
           "showscale": false,
           "type": "choropleth",
           "z": [
            1,
            1,
            1,
            1
           ]
          },
          {
           "colorscale": [
            [
             0,
             "#587AA6"
            ],
            [
             1,
             "#587AA6"
            ]
           ],
           "customdata": [
            [
             32.61793488518609,
             6
            ]
           ],
           "featureidkey": "properties.cartodb_id",
           "geo": "geo",
           "geojson": "https://raw.githubusercontent.com/Tenzinomics/click_that_hood/main/public/data/canada.geojson",
           "hovertemplate": "<b>%{hovertext}</b><br><br>Category=30 - 40<br>date=2012Q4<br> %=%{customdata[0]}<extra></extra>",
           "hovertext": [
            "British Columbia"
           ],
           "locationmode": "geojson-id",
           "locations": [
            6
           ],
           "name": "30 - 40",
           "showlegend": true,
           "showscale": false,
           "type": "choropleth",
           "z": [
            1
           ]
          }
         ],
         "name": "2012Q4"
        },
        {
         "data": [
          {
           "colorscale": [
            [
             0,
             "#F2F2F2"
            ],
            [
             1,
             "#F2F2F2"
            ]
           ],
           "customdata": [
            [
             0,
             9
            ],
            [
             0,
             12
            ],
            [
             0,
             13
            ]
           ],
           "featureidkey": "properties.cartodb_id",
           "geo": "geo",
           "geojson": "https://raw.githubusercontent.com/Tenzinomics/click_that_hood/main/public/data/canada.geojson",
           "hovertemplate": "<b>%{hovertext}</b><br><br>Category=N/A<br>date=2013Q1<br> %=%{customdata[0]}<extra></extra>",
           "hovertext": [
            "Yukon",
            "Nunavut",
            "Northwest Territories"
           ],
           "locationmode": "geojson-id",
           "locations": [
            9,
            12,
            13
           ],
           "name": "N/A",
           "showlegend": true,
           "showscale": false,
           "type": "choropleth",
           "z": [
            1,
            1,
            1
           ]
          },
          {
           "colorscale": [
            [
             0,
             "#B0D1D9"
            ],
            [
             1,
             "#B0D1D9"
            ]
           ],
           "customdata": [
            [
             19.0444471349873,
             10
            ],
            [
             15.235007275506184,
             7
            ],
            [
             20.247998375350605,
             5
            ],
            [
             19.190254207788765,
             2
            ],
            [
             16.147432299239505,
             8
            ],
            [
             18.74019932849378,
             1
            ],
            [
             20.54694964309839,
             3
            ]
           ],
           "featureidkey": "properties.cartodb_id",
           "geo": "geo",
           "geojson": "https://raw.githubusercontent.com/Tenzinomics/click_that_hood/main/public/data/canada.geojson",
           "hovertemplate": "<b>%{hovertext}</b><br><br>Category=10 - 20<br>date=2013Q1<br> %=%{customdata[0]}<extra></extra>",
           "hovertext": [
            "Manitoba",
            "New Brunswick",
            "Newfoundland",
            "Nova Scotia",
            "Prince Edward Island",
            "Québec",
            "Saskatchewan"
           ],
           "locationmode": "geojson-id",
           "locations": [
            10,
            7,
            5,
            2,
            8,
            1,
            3
           ],
           "name": "10 - 20",
           "showlegend": true,
           "showscale": false,
           "type": "choropleth",
           "z": [
            1,
            1,
            1,
            1,
            1,
            1,
            1
           ]
          },
          {
           "colorscale": [
            [
             0,
             "#8AA6BF"
            ],
            [
             1,
             "#8AA6BF"
            ]
           ],
           "customdata": [
            [
             22.979603642188806,
             4
            ],
            [
             30.745262785190246,
             6
            ],
            [
             24.310409739322047,
             11
            ]
           ],
           "featureidkey": "properties.cartodb_id",
           "geo": "geo",
           "geojson": "https://raw.githubusercontent.com/Tenzinomics/click_that_hood/main/public/data/canada.geojson",
           "hovertemplate": "<b>%{hovertext}</b><br><br>Category=20 - 30<br>date=2013Q1<br> %=%{customdata[0]}<extra></extra>",
           "hovertext": [
            "Alberta",
            "British Columbia",
            "Ontario"
           ],
           "locationmode": "geojson-id",
           "locations": [
            4,
            6,
            11
           ],
           "name": "20 - 30",
           "showlegend": true,
           "showscale": false,
           "type": "choropleth",
           "z": [
            1,
            1,
            1
           ]
          }
         ],
         "name": "2013Q1"
        },
        {
         "data": [
          {
           "colorscale": [
            [
             0,
             "#F2F2F2"
            ],
            [
             1,
             "#F2F2F2"
            ]
           ],
           "customdata": [
            [
             0,
             9
            ],
            [
             0,
             12
            ],
            [
             0,
             13
            ]
           ],
           "featureidkey": "properties.cartodb_id",
           "geo": "geo",
           "geojson": "https://raw.githubusercontent.com/Tenzinomics/click_that_hood/main/public/data/canada.geojson",
           "hovertemplate": "<b>%{hovertext}</b><br><br>Category=N/A<br>date=2013Q2<br> %=%{customdata[0]}<extra></extra>",
           "hovertext": [
            "Yukon",
            "Nunavut",
            "Northwest Territories"
           ],
           "locationmode": "geojson-id",
           "locations": [
            9,
            12,
            13
           ],
           "name": "N/A",
           "showlegend": true,
           "showscale": false,
           "type": "choropleth",
           "z": [
            1,
            1,
            1
           ]
          },
          {
           "colorscale": [
            [
             0,
             "#B0D1D9"
            ],
            [
             1,
             "#B0D1D9"
            ]
           ],
           "customdata": [
            [
             18.889201622855495,
             10
            ],
            [
             14.86310328875533,
             7
            ],
            [
             19.262721146102322,
             5
            ],
            [
             19.174979505690864,
             2
            ],
            [
             14.805142483949652,
             8
            ],
            [
             18.72566005987962,
             1
            ],
            [
             20.9400504277404,
             3
            ]
           ],
           "featureidkey": "properties.cartodb_id",
           "geo": "geo",
           "geojson": "https://raw.githubusercontent.com/Tenzinomics/click_that_hood/main/public/data/canada.geojson",
           "hovertemplate": "<b>%{hovertext}</b><br><br>Category=10 - 20<br>date=2013Q2<br> %=%{customdata[0]}<extra></extra>",
           "hovertext": [
            "Manitoba",
            "New Brunswick",
            "Newfoundland",
            "Nova Scotia",
            "Prince Edward Island",
            "Québec",
            "Saskatchewan"
           ],
           "locationmode": "geojson-id",
           "locations": [
            10,
            7,
            5,
            2,
            8,
            1,
            3
           ],
           "name": "10 - 20",
           "showlegend": true,
           "showscale": false,
           "type": "choropleth",
           "z": [
            1,
            1,
            1,
            1,
            1,
            1,
            1
           ]
          },
          {
           "colorscale": [
            [
             0,
             "#8AA6BF"
            ],
            [
             1,
             "#8AA6BF"
            ]
           ],
           "customdata": [
            [
             22.90950383172573,
             4
            ],
            [
             30.95702186119697,
             6
            ],
            [
             23.874747532346184,
             11
            ]
           ],
           "featureidkey": "properties.cartodb_id",
           "geo": "geo",
           "geojson": "https://raw.githubusercontent.com/Tenzinomics/click_that_hood/main/public/data/canada.geojson",
           "hovertemplate": "<b>%{hovertext}</b><br><br>Category=20 - 30<br>date=2013Q2<br> %=%{customdata[0]}<extra></extra>",
           "hovertext": [
            "Alberta",
            "British Columbia",
            "Ontario"
           ],
           "locationmode": "geojson-id",
           "locations": [
            4,
            6,
            11
           ],
           "name": "20 - 30",
           "showlegend": true,
           "showscale": false,
           "type": "choropleth",
           "z": [
            1,
            1,
            1
           ]
          }
         ],
         "name": "2013Q2"
        },
        {
         "data": [
          {
           "colorscale": [
            [
             0,
             "#F2F2F2"
            ],
            [
             1,
             "#F2F2F2"
            ]
           ],
           "customdata": [
            [
             0,
             9
            ],
            [
             0,
             12
            ],
            [
             0,
             13
            ]
           ],
           "featureidkey": "properties.cartodb_id",
           "geo": "geo",
           "geojson": "https://raw.githubusercontent.com/Tenzinomics/click_that_hood/main/public/data/canada.geojson",
           "hovertemplate": "<b>%{hovertext}</b><br><br>Category=N/A<br>date=2013Q3<br> %=%{customdata[0]}<extra></extra>",
           "hovertext": [
            "Yukon",
            "Nunavut",
            "Northwest Territories"
           ],
           "locationmode": "geojson-id",
           "locations": [
            9,
            12,
            13
           ],
           "name": "N/A",
           "showlegend": true,
           "showscale": false,
           "type": "choropleth",
           "z": [
            1,
            1,
            1
           ]
          },
          {
           "colorscale": [
            [
             0,
             "#B0D1D9"
            ],
            [
             1,
             "#B0D1D9"
            ]
           ],
           "customdata": [
            [
             20.87172893822362,
             10
            ],
            [
             16.233553975991544,
             7
            ],
            [
             20.73795295300411,
             5
            ],
            [
             20.305624962386343,
             2
            ],
            [
             16.58226741254606,
             8
            ],
            [
             19.688397166998634,
             1
            ]
           ],
           "featureidkey": "properties.cartodb_id",
           "geo": "geo",
           "geojson": "https://raw.githubusercontent.com/Tenzinomics/click_that_hood/main/public/data/canada.geojson",
           "hovertemplate": "<b>%{hovertext}</b><br><br>Category=10 - 20<br>date=2013Q3<br> %=%{customdata[0]}<extra></extra>",
           "hovertext": [
            "Manitoba",
            "New Brunswick",
            "Newfoundland",
            "Nova Scotia",
            "Prince Edward Island",
            "Québec"
           ],
           "locationmode": "geojson-id",
           "locations": [
            10,
            7,
            5,
            2,
            8,
            1
           ],
           "name": "10 - 20",
           "showlegend": true,
           "showscale": false,
           "type": "choropleth",
           "z": [
            1,
            1,
            1,
            1,
            1,
            1
           ]
          },
          {
           "colorscale": [
            [
             0,
             "#8AA6BF"
            ],
            [
             1,
             "#8AA6BF"
            ]
           ],
           "customdata": [
            [
             24.215272772628644,
             4
            ],
            [
             26.223092339333103,
             11
            ],
            [
             22.607028754831894,
             3
            ]
           ],
           "featureidkey": "properties.cartodb_id",
           "geo": "geo",
           "geojson": "https://raw.githubusercontent.com/Tenzinomics/click_that_hood/main/public/data/canada.geojson",
           "hovertemplate": "<b>%{hovertext}</b><br><br>Category=20 - 30<br>date=2013Q3<br> %=%{customdata[0]}<extra></extra>",
           "hovertext": [
            "Alberta",
            "Ontario",
            "Saskatchewan"
           ],
           "locationmode": "geojson-id",
           "locations": [
            4,
            11,
            3
           ],
           "name": "20 - 30",
           "showlegend": true,
           "showscale": false,
           "type": "choropleth",
           "z": [
            1,
            1,
            1
           ]
          },
          {
           "colorscale": [
            [
             0,
             "#587AA6"
            ],
            [
             1,
             "#587AA6"
            ]
           ],
           "customdata": [
            [
             32.88489625266068,
             6
            ]
           ],
           "featureidkey": "properties.cartodb_id",
           "geo": "geo",
           "geojson": "https://raw.githubusercontent.com/Tenzinomics/click_that_hood/main/public/data/canada.geojson",
           "hovertemplate": "<b>%{hovertext}</b><br><br>Category=30 - 40<br>date=2013Q3<br> %=%{customdata[0]}<extra></extra>",
           "hovertext": [
            "British Columbia"
           ],
           "locationmode": "geojson-id",
           "locations": [
            6
           ],
           "name": "30 - 40",
           "showlegend": true,
           "showscale": false,
           "type": "choropleth",
           "z": [
            1
           ]
          }
         ],
         "name": "2013Q3"
        },
        {
         "data": [
          {
           "colorscale": [
            [
             0,
             "#F2F2F2"
            ],
            [
             1,
             "#F2F2F2"
            ]
           ],
           "customdata": [
            [
             0,
             9
            ],
            [
             0,
             12
            ],
            [
             0,
             13
            ]
           ],
           "featureidkey": "properties.cartodb_id",
           "geo": "geo",
           "geojson": "https://raw.githubusercontent.com/Tenzinomics/click_that_hood/main/public/data/canada.geojson",
           "hovertemplate": "<b>%{hovertext}</b><br><br>Category=N/A<br>date=2013Q4<br> %=%{customdata[0]}<extra></extra>",
           "hovertext": [
            "Yukon",
            "Nunavut",
            "Northwest Territories"
           ],
           "locationmode": "geojson-id",
           "locations": [
            9,
            12,
            13
           ],
           "name": "N/A",
           "showlegend": true,
           "showscale": false,
           "type": "choropleth",
           "z": [
            1,
            1,
            1
           ]
          },
          {
           "colorscale": [
            [
             0,
             "#B0D1D9"
            ],
            [
             1,
             "#B0D1D9"
            ]
           ],
           "customdata": [
            [
             20.975380438372802,
             10
            ],
            [
             16.159218831140347,
             7
            ],
            [
             19.969330942860445,
             2
            ],
            [
             17.179037559490723,
             8
            ],
            [
             19.5339962289433,
             1
            ]
           ],
           "featureidkey": "properties.cartodb_id",
           "geo": "geo",
           "geojson": "https://raw.githubusercontent.com/Tenzinomics/click_that_hood/main/public/data/canada.geojson",
           "hovertemplate": "<b>%{hovertext}</b><br><br>Category=10 - 20<br>date=2013Q4<br> %=%{customdata[0]}<extra></extra>",
           "hovertext": [
            "Manitoba",
            "New Brunswick",
            "Nova Scotia",
            "Prince Edward Island",
            "Québec"
           ],
           "locationmode": "geojson-id",
           "locations": [
            10,
            7,
            2,
            8,
            1
           ],
           "name": "10 - 20",
           "showlegend": true,
           "showscale": false,
           "type": "choropleth",
           "z": [
            1,
            1,
            1,
            1,
            1
           ]
          },
          {
           "colorscale": [
            [
             0,
             "#8AA6BF"
            ],
            [
             1,
             "#8AA6BF"
            ]
           ],
           "customdata": [
            [
             24.370657586499323,
             4
            ],
            [
             21.330175995937505,
             5
            ],
            [
             26.25564118601033,
             11
            ],
            [
             23.154337205982642,
             3
            ]
           ],
           "featureidkey": "properties.cartodb_id",
           "geo": "geo",
           "geojson": "https://raw.githubusercontent.com/Tenzinomics/click_that_hood/main/public/data/canada.geojson",
           "hovertemplate": "<b>%{hovertext}</b><br><br>Category=20 - 30<br>date=2013Q4<br> %=%{customdata[0]}<extra></extra>",
           "hovertext": [
            "Alberta",
            "Newfoundland",
            "Ontario",
            "Saskatchewan"
           ],
           "locationmode": "geojson-id",
           "locations": [
            4,
            5,
            11,
            3
           ],
           "name": "20 - 30",
           "showlegend": true,
           "showscale": false,
           "type": "choropleth",
           "z": [
            1,
            1,
            1,
            1
           ]
          },
          {
           "colorscale": [
            [
             0,
             "#587AA6"
            ],
            [
             1,
             "#587AA6"
            ]
           ],
           "customdata": [
            [
             33.77570676317946,
             6
            ]
           ],
           "featureidkey": "properties.cartodb_id",
           "geo": "geo",
           "geojson": "https://raw.githubusercontent.com/Tenzinomics/click_that_hood/main/public/data/canada.geojson",
           "hovertemplate": "<b>%{hovertext}</b><br><br>Category=30 - 40<br>date=2013Q4<br> %=%{customdata[0]}<extra></extra>",
           "hovertext": [
            "British Columbia"
           ],
           "locationmode": "geojson-id",
           "locations": [
            6
           ],
           "name": "30 - 40",
           "showlegend": true,
           "showscale": false,
           "type": "choropleth",
           "z": [
            1
           ]
          }
         ],
         "name": "2013Q4"
        },
        {
         "data": [
          {
           "colorscale": [
            [
             0,
             "#F2F2F2"
            ],
            [
             1,
             "#F2F2F2"
            ]
           ],
           "customdata": [
            [
             0,
             9
            ],
            [
             0,
             12
            ],
            [
             0,
             13
            ]
           ],
           "featureidkey": "properties.cartodb_id",
           "geo": "geo",
           "geojson": "https://raw.githubusercontent.com/Tenzinomics/click_that_hood/main/public/data/canada.geojson",
           "hovertemplate": "<b>%{hovertext}</b><br><br>Category=N/A<br>date=2014Q1<br> %=%{customdata[0]}<extra></extra>",
           "hovertext": [
            "Yukon",
            "Nunavut",
            "Northwest Territories"
           ],
           "locationmode": "geojson-id",
           "locations": [
            9,
            12,
            13
           ],
           "name": "N/A",
           "showlegend": true,
           "showscale": false,
           "type": "choropleth",
           "z": [
            1,
            1,
            1
           ]
          },
          {
           "colorscale": [
            [
             0,
             "#B0D1D9"
            ],
            [
             1,
             "#B0D1D9"
            ]
           ],
           "customdata": [
            [
             20.553591159215255,
             10
            ],
            [
             15.784777458671098,
             7
            ],
            [
             20.97266485603157,
             5
            ],
            [
             19.825326612176088,
             2
            ],
            [
             17.081323288736435,
             8
            ],
            [
             19.547443734619627,
             1
            ]
           ],
           "featureidkey": "properties.cartodb_id",
           "geo": "geo",
           "geojson": "https://raw.githubusercontent.com/Tenzinomics/click_that_hood/main/public/data/canada.geojson",
           "hovertemplate": "<b>%{hovertext}</b><br><br>Category=10 - 20<br>date=2014Q1<br> %=%{customdata[0]}<extra></extra>",
           "hovertext": [
            "Manitoba",
            "New Brunswick",
            "Newfoundland",
            "Nova Scotia",
            "Prince Edward Island",
            "Québec"
           ],
           "locationmode": "geojson-id",
           "locations": [
            10,
            7,
            5,
            2,
            8,
            1
           ],
           "name": "10 - 20",
           "showlegend": true,
           "showscale": false,
           "type": "choropleth",
           "z": [
            1,
            1,
            1,
            1,
            1,
            1
           ]
          },
          {
           "colorscale": [
            [
             0,
             "#8AA6BF"
            ],
            [
             1,
             "#8AA6BF"
            ]
           ],
           "customdata": [
            [
             24.320253753356557,
             4
            ],
            [
             25.192244686388143,
             11
            ],
            [
             21.574852490082367,
             3
            ]
           ],
           "featureidkey": "properties.cartodb_id",
           "geo": "geo",
           "geojson": "https://raw.githubusercontent.com/Tenzinomics/click_that_hood/main/public/data/canada.geojson",
           "hovertemplate": "<b>%{hovertext}</b><br><br>Category=20 - 30<br>date=2014Q1<br> %=%{customdata[0]}<extra></extra>",
           "hovertext": [
            "Alberta",
            "Ontario",
            "Saskatchewan"
           ],
           "locationmode": "geojson-id",
           "locations": [
            4,
            11,
            3
           ],
           "name": "20 - 30",
           "showlegend": true,
           "showscale": false,
           "type": "choropleth",
           "z": [
            1,
            1,
            1
           ]
          },
          {
           "colorscale": [
            [
             0,
             "#587AA6"
            ],
            [
             1,
             "#587AA6"
            ]
           ],
           "customdata": [
            [
             34.14706797443266,
             6
            ]
           ],
           "featureidkey": "properties.cartodb_id",
           "geo": "geo",
           "geojson": "https://raw.githubusercontent.com/Tenzinomics/click_that_hood/main/public/data/canada.geojson",
           "hovertemplate": "<b>%{hovertext}</b><br><br>Category=30 - 40<br>date=2014Q1<br> %=%{customdata[0]}<extra></extra>",
           "hovertext": [
            "British Columbia"
           ],
           "locationmode": "geojson-id",
           "locations": [
            6
           ],
           "name": "30 - 40",
           "showlegend": true,
           "showscale": false,
           "type": "choropleth",
           "z": [
            1
           ]
          }
         ],
         "name": "2014Q1"
        },
        {
         "data": [
          {
           "colorscale": [
            [
             0,
             "#F2F2F2"
            ],
            [
             1,
             "#F2F2F2"
            ]
           ],
           "customdata": [
            [
             0,
             9
            ],
            [
             0,
             12
            ],
            [
             0,
             13
            ]
           ],
           "featureidkey": "properties.cartodb_id",
           "geo": "geo",
           "geojson": "https://raw.githubusercontent.com/Tenzinomics/click_that_hood/main/public/data/canada.geojson",
           "hovertemplate": "<b>%{hovertext}</b><br><br>Category=N/A<br>date=2014Q2<br> %=%{customdata[0]}<extra></extra>",
           "hovertext": [
            "Yukon",
            "Nunavut",
            "Northwest Territories"
           ],
           "locationmode": "geojson-id",
           "locations": [
            9,
            12,
            13
           ],
           "name": "N/A",
           "showlegend": true,
           "showscale": false,
           "type": "choropleth",
           "z": [
            1,
            1,
            1
           ]
          },
          {
           "colorscale": [
            [
             0,
             "#B0D1D9"
            ],
            [
             1,
             "#B0D1D9"
            ]
           ],
           "customdata": [
            [
             19.605099174425597,
             10
            ],
            [
             14.920418706126357,
             7
            ],
            [
             20.11636410947282,
             5
            ],
            [
             18.830330029141894,
             2
            ],
            [
             16.169746564802082,
             8
            ],
            [
             19.458843592521195,
             1
            ],
            [
             20.255312308889746,
             3
            ]
           ],
           "featureidkey": "properties.cartodb_id",
           "geo": "geo",
           "geojson": "https://raw.githubusercontent.com/Tenzinomics/click_that_hood/main/public/data/canada.geojson",
           "hovertemplate": "<b>%{hovertext}</b><br><br>Category=10 - 20<br>date=2014Q2<br> %=%{customdata[0]}<extra></extra>",
           "hovertext": [
            "Manitoba",
            "New Brunswick",
            "Newfoundland",
            "Nova Scotia",
            "Prince Edward Island",
            "Québec",
            "Saskatchewan"
           ],
           "locationmode": "geojson-id",
           "locations": [
            10,
            7,
            5,
            2,
            8,
            1,
            3
           ],
           "name": "10 - 20",
           "showlegend": true,
           "showscale": false,
           "type": "choropleth",
           "z": [
            1,
            1,
            1,
            1,
            1,
            1,
            1
           ]
          },
          {
           "colorscale": [
            [
             0,
             "#8AA6BF"
            ],
            [
             1,
             "#8AA6BF"
            ]
           ],
           "customdata": [
            [
             23.547025159075318,
             4
            ],
            [
             24.16628054863162,
             11
            ]
           ],
           "featureidkey": "properties.cartodb_id",
           "geo": "geo",
           "geojson": "https://raw.githubusercontent.com/Tenzinomics/click_that_hood/main/public/data/canada.geojson",
           "hovertemplate": "<b>%{hovertext}</b><br><br>Category=20 - 30<br>date=2014Q2<br> %=%{customdata[0]}<extra></extra>",
           "hovertext": [
            "Alberta",
            "Ontario"
           ],
           "locationmode": "geojson-id",
           "locations": [
            4,
            11
           ],
           "name": "20 - 30",
           "showlegend": true,
           "showscale": false,
           "type": "choropleth",
           "z": [
            1,
            1
           ]
          },
          {
           "colorscale": [
            [
             0,
             "#587AA6"
            ],
            [
             1,
             "#587AA6"
            ]
           ],
           "customdata": [
            [
             32.7437734407282,
             6
            ]
           ],
           "featureidkey": "properties.cartodb_id",
           "geo": "geo",
           "geojson": "https://raw.githubusercontent.com/Tenzinomics/click_that_hood/main/public/data/canada.geojson",
           "hovertemplate": "<b>%{hovertext}</b><br><br>Category=30 - 40<br>date=2014Q2<br> %=%{customdata[0]}<extra></extra>",
           "hovertext": [
            "British Columbia"
           ],
           "locationmode": "geojson-id",
           "locations": [
            6
           ],
           "name": "30 - 40",
           "showlegend": true,
           "showscale": false,
           "type": "choropleth",
           "z": [
            1
           ]
          }
         ],
         "name": "2014Q2"
        },
        {
         "data": [
          {
           "colorscale": [
            [
             0,
             "#F2F2F2"
            ],
            [
             1,
             "#F2F2F2"
            ]
           ],
           "customdata": [
            [
             0,
             9
            ],
            [
             0,
             12
            ],
            [
             0,
             13
            ]
           ],
           "featureidkey": "properties.cartodb_id",
           "geo": "geo",
           "geojson": "https://raw.githubusercontent.com/Tenzinomics/click_that_hood/main/public/data/canada.geojson",
           "hovertemplate": "<b>%{hovertext}</b><br><br>Category=N/A<br>date=2014Q3<br> %=%{customdata[0]}<extra></extra>",
           "hovertext": [
            "Yukon",
            "Nunavut",
            "Northwest Territories"
           ],
           "locationmode": "geojson-id",
           "locations": [
            9,
            12,
            13
           ],
           "name": "N/A",
           "showlegend": true,
           "showscale": false,
           "type": "choropleth",
           "z": [
            1,
            1,
            1
           ]
          },
          {
           "colorscale": [
            [
             0,
             "#B0D1D9"
            ],
            [
             1,
             "#B0D1D9"
            ]
           ],
           "customdata": [
            [
             16.286210972388606,
             7
            ],
            [
             20.815642871813143,
             5
            ],
            [
             20.641296985656247,
             2
            ],
            [
             16.86312062162046,
             8
            ],
            [
             20.219508030649223,
             1
            ]
           ],
           "featureidkey": "properties.cartodb_id",
           "geo": "geo",
           "geojson": "https://raw.githubusercontent.com/Tenzinomics/click_that_hood/main/public/data/canada.geojson",
           "hovertemplate": "<b>%{hovertext}</b><br><br>Category=10 - 20<br>date=2014Q3<br> %=%{customdata[0]}<extra></extra>",
           "hovertext": [
            "New Brunswick",
            "Newfoundland",
            "Nova Scotia",
            "Prince Edward Island",
            "Québec"
           ],
           "locationmode": "geojson-id",
           "locations": [
            7,
            5,
            2,
            8,
            1
           ],
           "name": "10 - 20",
           "showlegend": true,
           "showscale": false,
           "type": "choropleth",
           "z": [
            1,
            1,
            1,
            1,
            1
           ]
          },
          {
           "colorscale": [
            [
             0,
             "#8AA6BF"
            ],
            [
             1,
             "#8AA6BF"
            ]
           ],
           "customdata": [
            [
             24.652768747354486,
             4
            ],
            [
             21.25133941796447,
             10
            ],
            [
             26.374910088699146,
             11
            ],
            [
             21.45768244594713,
             3
            ]
           ],
           "featureidkey": "properties.cartodb_id",
           "geo": "geo",
           "geojson": "https://raw.githubusercontent.com/Tenzinomics/click_that_hood/main/public/data/canada.geojson",
           "hovertemplate": "<b>%{hovertext}</b><br><br>Category=20 - 30<br>date=2014Q3<br> %=%{customdata[0]}<extra></extra>",
           "hovertext": [
            "Alberta",
            "Manitoba",
            "Ontario",
            "Saskatchewan"
           ],
           "locationmode": "geojson-id",
           "locations": [
            4,
            10,
            11,
            3
           ],
           "name": "20 - 30",
           "showlegend": true,
           "showscale": false,
           "type": "choropleth",
           "z": [
            1,
            1,
            1,
            1
           ]
          },
          {
           "colorscale": [
            [
             0,
             "#587AA6"
            ],
            [
             1,
             "#587AA6"
            ]
           ],
           "customdata": [
            [
             34.5129617840918,
             6
            ]
           ],
           "featureidkey": "properties.cartodb_id",
           "geo": "geo",
           "geojson": "https://raw.githubusercontent.com/Tenzinomics/click_that_hood/main/public/data/canada.geojson",
           "hovertemplate": "<b>%{hovertext}</b><br><br>Category=30 - 40<br>date=2014Q3<br> %=%{customdata[0]}<extra></extra>",
           "hovertext": [
            "British Columbia"
           ],
           "locationmode": "geojson-id",
           "locations": [
            6
           ],
           "name": "30 - 40",
           "showlegend": true,
           "showscale": false,
           "type": "choropleth",
           "z": [
            1
           ]
          }
         ],
         "name": "2014Q3"
        },
        {
         "data": [
          {
           "colorscale": [
            [
             0,
             "#F2F2F2"
            ],
            [
             1,
             "#F2F2F2"
            ]
           ],
           "customdata": [
            [
             0,
             9
            ],
            [
             0,
             12
            ],
            [
             0,
             13
            ]
           ],
           "featureidkey": "properties.cartodb_id",
           "geo": "geo",
           "geojson": "https://raw.githubusercontent.com/Tenzinomics/click_that_hood/main/public/data/canada.geojson",
           "hovertemplate": "<b>%{hovertext}</b><br><br>Category=N/A<br>date=2014Q4<br> %=%{customdata[0]}<extra></extra>",
           "hovertext": [
            "Yukon",
            "Nunavut",
            "Northwest Territories"
           ],
           "locationmode": "geojson-id",
           "locations": [
            9,
            12,
            13
           ],
           "name": "N/A",
           "showlegend": true,
           "showscale": false,
           "type": "choropleth",
           "z": [
            1,
            1,
            1
           ]
          },
          {
           "colorscale": [
            [
             0,
             "#B0D1D9"
            ],
            [
             1,
             "#B0D1D9"
            ]
           ],
           "customdata": [
            [
             20.939675383838242,
             10
            ],
            [
             15.913684972069497,
             7
            ],
            [
             20.850518524662494,
             5
            ],
            [
             19.4968347383753,
             2
            ],
            [
             16.582963779270898,
             8
            ],
            [
             19.407312071398206,
             1
            ]
           ],
           "featureidkey": "properties.cartodb_id",
           "geo": "geo",
           "geojson": "https://raw.githubusercontent.com/Tenzinomics/click_that_hood/main/public/data/canada.geojson",
           "hovertemplate": "<b>%{hovertext}</b><br><br>Category=10 - 20<br>date=2014Q4<br> %=%{customdata[0]}<extra></extra>",
           "hovertext": [
            "Manitoba",
            "New Brunswick",
            "Newfoundland",
            "Nova Scotia",
            "Prince Edward Island",
            "Québec"
           ],
           "locationmode": "geojson-id",
           "locations": [
            10,
            7,
            5,
            2,
            8,
            1
           ],
           "name": "10 - 20",
           "showlegend": true,
           "showscale": false,
           "type": "choropleth",
           "z": [
            1,
            1,
            1,
            1,
            1,
            1
           ]
          },
          {
           "colorscale": [
            [
             0,
             "#8AA6BF"
            ],
            [
             1,
             "#8AA6BF"
            ]
           ],
           "customdata": [
            [
             24.697312942271306,
             4
            ],
            [
             25.7600074213595,
             11
            ],
            [
             21.605883965345576,
             3
            ]
           ],
           "featureidkey": "properties.cartodb_id",
           "geo": "geo",
           "geojson": "https://raw.githubusercontent.com/Tenzinomics/click_that_hood/main/public/data/canada.geojson",
           "hovertemplate": "<b>%{hovertext}</b><br><br>Category=20 - 30<br>date=2014Q4<br> %=%{customdata[0]}<extra></extra>",
           "hovertext": [
            "Alberta",
            "Ontario",
            "Saskatchewan"
           ],
           "locationmode": "geojson-id",
           "locations": [
            4,
            11,
            3
           ],
           "name": "20 - 30",
           "showlegend": true,
           "showscale": false,
           "type": "choropleth",
           "z": [
            1,
            1,
            1
           ]
          },
          {
           "colorscale": [
            [
             0,
             "#587AA6"
            ],
            [
             1,
             "#587AA6"
            ]
           ],
           "customdata": [
            [
             34.628532153676325,
             6
            ]
           ],
           "featureidkey": "properties.cartodb_id",
           "geo": "geo",
           "geojson": "https://raw.githubusercontent.com/Tenzinomics/click_that_hood/main/public/data/canada.geojson",
           "hovertemplate": "<b>%{hovertext}</b><br><br>Category=30 - 40<br>date=2014Q4<br> %=%{customdata[0]}<extra></extra>",
           "hovertext": [
            "British Columbia"
           ],
           "locationmode": "geojson-id",
           "locations": [
            6
           ],
           "name": "30 - 40",
           "showlegend": true,
           "showscale": false,
           "type": "choropleth",
           "z": [
            1
           ]
          }
         ],
         "name": "2014Q4"
        },
        {
         "data": [
          {
           "colorscale": [
            [
             0,
             "#F2F2F2"
            ],
            [
             1,
             "#F2F2F2"
            ]
           ],
           "customdata": [
            [
             0,
             9
            ],
            [
             0,
             12
            ],
            [
             0,
             13
            ]
           ],
           "featureidkey": "properties.cartodb_id",
           "geo": "geo",
           "geojson": "https://raw.githubusercontent.com/Tenzinomics/click_that_hood/main/public/data/canada.geojson",
           "hovertemplate": "<b>%{hovertext}</b><br><br>Category=N/A<br>date=2015Q1<br> %=%{customdata[0]}<extra></extra>",
           "hovertext": [
            "Yukon",
            "Nunavut",
            "Northwest Territories"
           ],
           "locationmode": "geojson-id",
           "locations": [
            9,
            12,
            13
           ],
           "name": "N/A",
           "showlegend": true,
           "showscale": false,
           "type": "choropleth",
           "z": [
            1,
            1,
            1
           ]
          },
          {
           "colorscale": [
            [
             0,
             "#B0D1D9"
            ],
            [
             1,
             "#B0D1D9"
            ]
           ],
           "customdata": [
            [
             19.971664759318028,
             10
            ],
            [
             15.244153957395218,
             7
            ],
            [
             19.84076064082296,
             2
            ],
            [
             16.56340555513077,
             8
            ],
            [
             19.368108066321287,
             1
            ]
           ],
           "featureidkey": "properties.cartodb_id",
           "geo": "geo",
           "geojson": "https://raw.githubusercontent.com/Tenzinomics/click_that_hood/main/public/data/canada.geojson",
           "hovertemplate": "<b>%{hovertext}</b><br><br>Category=10 - 20<br>date=2015Q1<br> %=%{customdata[0]}<extra></extra>",
           "hovertext": [
            "Manitoba",
            "New Brunswick",
            "Nova Scotia",
            "Prince Edward Island",
            "Québec"
           ],
           "locationmode": "geojson-id",
           "locations": [
            10,
            7,
            2,
            8,
            1
           ],
           "name": "10 - 20",
           "showlegend": true,
           "showscale": false,
           "type": "choropleth",
           "z": [
            1,
            1,
            1,
            1,
            1
           ]
          },
          {
           "colorscale": [
            [
             0,
             "#8AA6BF"
            ],
            [
             1,
             "#8AA6BF"
            ]
           ],
           "customdata": [
            [
             24.033282322774287,
             4
            ],
            [
             21.229451497142424,
             5
            ],
            [
             25.28257799842874,
             11
            ],
            [
             21.713026998526587,
             3
            ]
           ],
           "featureidkey": "properties.cartodb_id",
           "geo": "geo",
           "geojson": "https://raw.githubusercontent.com/Tenzinomics/click_that_hood/main/public/data/canada.geojson",
           "hovertemplate": "<b>%{hovertext}</b><br><br>Category=20 - 30<br>date=2015Q1<br> %=%{customdata[0]}<extra></extra>",
           "hovertext": [
            "Alberta",
            "Newfoundland",
            "Ontario",
            "Saskatchewan"
           ],
           "locationmode": "geojson-id",
           "locations": [
            4,
            5,
            11,
            3
           ],
           "name": "20 - 30",
           "showlegend": true,
           "showscale": false,
           "type": "choropleth",
           "z": [
            1,
            1,
            1,
            1
           ]
          },
          {
           "colorscale": [
            [
             0,
             "#587AA6"
            ],
            [
             1,
             "#587AA6"
            ]
           ],
           "customdata": [
            [
             35.37973901167289,
             6
            ]
           ],
           "featureidkey": "properties.cartodb_id",
           "geo": "geo",
           "geojson": "https://raw.githubusercontent.com/Tenzinomics/click_that_hood/main/public/data/canada.geojson",
           "hovertemplate": "<b>%{hovertext}</b><br><br>Category=30 - 40<br>date=2015Q1<br> %=%{customdata[0]}<extra></extra>",
           "hovertext": [
            "British Columbia"
           ],
           "locationmode": "geojson-id",
           "locations": [
            6
           ],
           "name": "30 - 40",
           "showlegend": true,
           "showscale": false,
           "type": "choropleth",
           "z": [
            1
           ]
          }
         ],
         "name": "2015Q1"
        },
        {
         "data": [
          {
           "colorscale": [
            [
             0,
             "#F2F2F2"
            ],
            [
             1,
             "#F2F2F2"
            ]
           ],
           "customdata": [
            [
             0,
             9
            ],
            [
             0,
             12
            ],
            [
             0,
             13
            ]
           ],
           "featureidkey": "properties.cartodb_id",
           "geo": "geo",
           "geojson": "https://raw.githubusercontent.com/Tenzinomics/click_that_hood/main/public/data/canada.geojson",
           "hovertemplate": "<b>%{hovertext}</b><br><br>Category=N/A<br>date=2015Q2<br> %=%{customdata[0]}<extra></extra>",
           "hovertext": [
            "Yukon",
            "Nunavut",
            "Northwest Territories"
           ],
           "locationmode": "geojson-id",
           "locations": [
            9,
            12,
            13
           ],
           "name": "N/A",
           "showlegend": true,
           "showscale": false,
           "type": "choropleth",
           "z": [
            1,
            1,
            1
           ]
          },
          {
           "colorscale": [
            [
             0,
             "#B0D1D9"
            ],
            [
             1,
             "#B0D1D9"
            ]
           ],
           "customdata": [
            [
             19.52384011694995,
             10
            ],
            [
             14.57143503628722,
             7
            ],
            [
             20.504359738070377,
             5
            ],
            [
             19.704359845649062,
             2
            ],
            [
             16.27481500215284,
             8
            ],
            [
             19.41655540920852,
             1
            ]
           ],
           "featureidkey": "properties.cartodb_id",
           "geo": "geo",
           "geojson": "https://raw.githubusercontent.com/Tenzinomics/click_that_hood/main/public/data/canada.geojson",
           "hovertemplate": "<b>%{hovertext}</b><br><br>Category=10 - 20<br>date=2015Q2<br> %=%{customdata[0]}<extra></extra>",
           "hovertext": [
            "Manitoba",
            "New Brunswick",
            "Newfoundland",
            "Nova Scotia",
            "Prince Edward Island",
            "Québec"
           ],
           "locationmode": "geojson-id",
           "locations": [
            10,
            7,
            5,
            2,
            8,
            1
           ],
           "name": "10 - 20",
           "showlegend": true,
           "showscale": false,
           "type": "choropleth",
           "z": [
            1,
            1,
            1,
            1,
            1,
            1
           ]
          },
          {
           "colorscale": [
            [
             0,
             "#8AA6BF"
            ],
            [
             1,
             "#8AA6BF"
            ]
           ],
           "customdata": [
            [
             23.303630475822736,
             4
            ],
            [
             25.266794599653185,
             11
            ],
            [
             21.19391533585638,
             3
            ]
           ],
           "featureidkey": "properties.cartodb_id",
           "geo": "geo",
           "geojson": "https://raw.githubusercontent.com/Tenzinomics/click_that_hood/main/public/data/canada.geojson",
           "hovertemplate": "<b>%{hovertext}</b><br><br>Category=20 - 30<br>date=2015Q2<br> %=%{customdata[0]}<extra></extra>",
           "hovertext": [
            "Alberta",
            "Ontario",
            "Saskatchewan"
           ],
           "locationmode": "geojson-id",
           "locations": [
            4,
            11,
            3
           ],
           "name": "20 - 30",
           "showlegend": true,
           "showscale": false,
           "type": "choropleth",
           "z": [
            1,
            1,
            1
           ]
          },
          {
           "colorscale": [
            [
             0,
             "#587AA6"
            ],
            [
             1,
             "#587AA6"
            ]
           ],
           "customdata": [
            [
             35.154207987298996,
             6
            ]
           ],
           "featureidkey": "properties.cartodb_id",
           "geo": "geo",
           "geojson": "https://raw.githubusercontent.com/Tenzinomics/click_that_hood/main/public/data/canada.geojson",
           "hovertemplate": "<b>%{hovertext}</b><br><br>Category=30 - 40<br>date=2015Q2<br> %=%{customdata[0]}<extra></extra>",
           "hovertext": [
            "British Columbia"
           ],
           "locationmode": "geojson-id",
           "locations": [
            6
           ],
           "name": "30 - 40",
           "showlegend": true,
           "showscale": false,
           "type": "choropleth",
           "z": [
            1
           ]
          }
         ],
         "name": "2015Q2"
        },
        {
         "data": [
          {
           "colorscale": [
            [
             0,
             "#F2F2F2"
            ],
            [
             1,
             "#F2F2F2"
            ]
           ],
           "customdata": [
            [
             0,
             9
            ],
            [
             0,
             12
            ],
            [
             0,
             13
            ]
           ],
           "featureidkey": "properties.cartodb_id",
           "geo": "geo",
           "geojson": "https://raw.githubusercontent.com/Tenzinomics/click_that_hood/main/public/data/canada.geojson",
           "hovertemplate": "<b>%{hovertext}</b><br><br>Category=N/A<br>date=2015Q3<br> %=%{customdata[0]}<extra></extra>",
           "hovertext": [
            "Yukon",
            "Nunavut",
            "Northwest Territories"
           ],
           "locationmode": "geojson-id",
           "locations": [
            9,
            12,
            13
           ],
           "name": "N/A",
           "showlegend": true,
           "showscale": false,
           "type": "choropleth",
           "z": [
            1,
            1,
            1
           ]
          },
          {
           "colorscale": [
            [
             0,
             "#B0D1D9"
            ],
            [
             1,
             "#B0D1D9"
            ]
           ],
           "customdata": [
            [
             15.564933926064029,
             7
            ],
            [
             16.61961143815104,
             8
            ],
            [
             20.01772441647195,
             1
            ]
           ],
           "featureidkey": "properties.cartodb_id",
           "geo": "geo",
           "geojson": "https://raw.githubusercontent.com/Tenzinomics/click_that_hood/main/public/data/canada.geojson",
           "hovertemplate": "<b>%{hovertext}</b><br><br>Category=10 - 20<br>date=2015Q3<br> %=%{customdata[0]}<extra></extra>",
           "hovertext": [
            "New Brunswick",
            "Prince Edward Island",
            "Québec"
           ],
           "locationmode": "geojson-id",
           "locations": [
            7,
            8,
            1
           ],
           "name": "10 - 20",
           "showlegend": true,
           "showscale": false,
           "type": "choropleth",
           "z": [
            1,
            1,
            1
           ]
          },
          {
           "colorscale": [
            [
             0,
             "#8AA6BF"
            ],
            [
             1,
             "#8AA6BF"
            ]
           ],
           "customdata": [
            [
             24.01385120839247,
             4
            ],
            [
             21.086829295099275,
             10
            ],
            [
             21.051099544622755,
             5
            ],
            [
             21.163650842740434,
             2
            ],
            [
             27.341888539378477,
             11
            ],
            [
             21.860862602427105,
             3
            ]
           ],
           "featureidkey": "properties.cartodb_id",
           "geo": "geo",
           "geojson": "https://raw.githubusercontent.com/Tenzinomics/click_that_hood/main/public/data/canada.geojson",
           "hovertemplate": "<b>%{hovertext}</b><br><br>Category=20 - 30<br>date=2015Q3<br> %=%{customdata[0]}<extra></extra>",
           "hovertext": [
            "Alberta",
            "Manitoba",
            "Newfoundland",
            "Nova Scotia",
            "Ontario",
            "Saskatchewan"
           ],
           "locationmode": "geojson-id",
           "locations": [
            4,
            10,
            5,
            2,
            11,
            3
           ],
           "name": "20 - 30",
           "showlegend": true,
           "showscale": false,
           "type": "choropleth",
           "z": [
            1,
            1,
            1,
            1,
            1,
            1
           ]
          },
          {
           "colorscale": [
            [
             0,
             "#587AA6"
            ],
            [
             1,
             "#587AA6"
            ]
           ],
           "customdata": [
            [
             37.40397563043876,
             6
            ]
           ],
           "featureidkey": "properties.cartodb_id",
           "geo": "geo",
           "geojson": "https://raw.githubusercontent.com/Tenzinomics/click_that_hood/main/public/data/canada.geojson",
           "hovertemplate": "<b>%{hovertext}</b><br><br>Category=30 - 40<br>date=2015Q3<br> %=%{customdata[0]}<extra></extra>",
           "hovertext": [
            "British Columbia"
           ],
           "locationmode": "geojson-id",
           "locations": [
            6
           ],
           "name": "30 - 40",
           "showlegend": true,
           "showscale": false,
           "type": "choropleth",
           "z": [
            1
           ]
          }
         ],
         "name": "2015Q3"
        },
        {
         "data": [
          {
           "colorscale": [
            [
             0,
             "#F2F2F2"
            ],
            [
             1,
             "#F2F2F2"
            ]
           ],
           "customdata": [
            [
             0,
             9
            ],
            [
             0,
             12
            ],
            [
             0,
             13
            ]
           ],
           "featureidkey": "properties.cartodb_id",
           "geo": "geo",
           "geojson": "https://raw.githubusercontent.com/Tenzinomics/click_that_hood/main/public/data/canada.geojson",
           "hovertemplate": "<b>%{hovertext}</b><br><br>Category=N/A<br>date=2015Q4<br> %=%{customdata[0]}<extra></extra>",
           "hovertext": [
            "Yukon",
            "Nunavut",
            "Northwest Territories"
           ],
           "locationmode": "geojson-id",
           "locations": [
            9,
            12,
            13
           ],
           "name": "N/A",
           "showlegend": true,
           "showscale": false,
           "type": "choropleth",
           "z": [
            1,
            1,
            1
           ]
          },
          {
           "colorscale": [
            [
             0,
             "#B0D1D9"
            ],
            [
             1,
             "#B0D1D9"
            ]
           ],
           "customdata": [
            [
             20.65649029817359,
             10
            ],
            [
             15.538127037453267,
             7
            ],
            [
             20.58570852788874,
             2
            ],
            [
             17.26625151853758,
             8
            ],
            [
             19.333849898864152,
             1
            ]
           ],
           "featureidkey": "properties.cartodb_id",
           "geo": "geo",
           "geojson": "https://raw.githubusercontent.com/Tenzinomics/click_that_hood/main/public/data/canada.geojson",
           "hovertemplate": "<b>%{hovertext}</b><br><br>Category=10 - 20<br>date=2015Q4<br> %=%{customdata[0]}<extra></extra>",
           "hovertext": [
            "Manitoba",
            "New Brunswick",
            "Nova Scotia",
            "Prince Edward Island",
            "Québec"
           ],
           "locationmode": "geojson-id",
           "locations": [
            10,
            7,
            2,
            8,
            1
           ],
           "name": "10 - 20",
           "showlegend": true,
           "showscale": false,
           "type": "choropleth",
           "z": [
            1,
            1,
            1,
            1,
            1
           ]
          },
          {
           "colorscale": [
            [
             0,
             "#8AA6BF"
            ],
            [
             1,
             "#8AA6BF"
            ]
           ],
           "customdata": [
            [
             23.54362576889425,
             4
            ],
            [
             21.38370270603327,
             5
            ],
            [
             27.06279242023748,
             11
            ],
            [
             21.605760754574764,
             3
            ]
           ],
           "featureidkey": "properties.cartodb_id",
           "geo": "geo",
           "geojson": "https://raw.githubusercontent.com/Tenzinomics/click_that_hood/main/public/data/canada.geojson",
           "hovertemplate": "<b>%{hovertext}</b><br><br>Category=20 - 30<br>date=2015Q4<br> %=%{customdata[0]}<extra></extra>",
           "hovertext": [
            "Alberta",
            "Newfoundland",
            "Ontario",
            "Saskatchewan"
           ],
           "locationmode": "geojson-id",
           "locations": [
            4,
            5,
            11,
            3
           ],
           "name": "20 - 30",
           "showlegend": true,
           "showscale": false,
           "type": "choropleth",
           "z": [
            1,
            1,
            1,
            1
           ]
          },
          {
           "colorscale": [
            [
             0,
             "#587AA6"
            ],
            [
             1,
             "#587AA6"
            ]
           ],
           "customdata": [
            [
             38.160979462469705,
             6
            ]
           ],
           "featureidkey": "properties.cartodb_id",
           "geo": "geo",
           "geojson": "https://raw.githubusercontent.com/Tenzinomics/click_that_hood/main/public/data/canada.geojson",
           "hovertemplate": "<b>%{hovertext}</b><br><br>Category=30 - 40<br>date=2015Q4<br> %=%{customdata[0]}<extra></extra>",
           "hovertext": [
            "British Columbia"
           ],
           "locationmode": "geojson-id",
           "locations": [
            6
           ],
           "name": "30 - 40",
           "showlegend": true,
           "showscale": false,
           "type": "choropleth",
           "z": [
            1
           ]
          }
         ],
         "name": "2015Q4"
        },
        {
         "data": [
          {
           "colorscale": [
            [
             0,
             "#F2F2F2"
            ],
            [
             1,
             "#F2F2F2"
            ]
           ],
           "customdata": [
            [
             0,
             9
            ],
            [
             0,
             12
            ],
            [
             0,
             13
            ]
           ],
           "featureidkey": "properties.cartodb_id",
           "geo": "geo",
           "geojson": "https://raw.githubusercontent.com/Tenzinomics/click_that_hood/main/public/data/canada.geojson",
           "hovertemplate": "<b>%{hovertext}</b><br><br>Category=N/A<br>date=2016Q1<br> %=%{customdata[0]}<extra></extra>",
           "hovertext": [
            "Yukon",
            "Nunavut",
            "Northwest Territories"
           ],
           "locationmode": "geojson-id",
           "locations": [
            9,
            12,
            13
           ],
           "name": "N/A",
           "showlegend": true,
           "showscale": false,
           "type": "choropleth",
           "z": [
            1,
            1,
            1
           ]
          },
          {
           "colorscale": [
            [
             0,
             "#B0D1D9"
            ],
            [
             1,
             "#B0D1D9"
            ]
           ],
           "customdata": [
            [
             19.676471812241292,
             10
            ],
            [
             15.36963743683096,
             7
            ],
            [
             20.229524344150477,
             5
            ],
            [
             19.50311675959801,
             2
            ],
            [
             18.238707891178603,
             8
            ],
            [
             19.562411931660392,
             1
            ]
           ],
           "featureidkey": "properties.cartodb_id",
           "geo": "geo",
           "geojson": "https://raw.githubusercontent.com/Tenzinomics/click_that_hood/main/public/data/canada.geojson",
           "hovertemplate": "<b>%{hovertext}</b><br><br>Category=10 - 20<br>date=2016Q1<br> %=%{customdata[0]}<extra></extra>",
           "hovertext": [
            "Manitoba",
            "New Brunswick",
            "Newfoundland",
            "Nova Scotia",
            "Prince Edward Island",
            "Québec"
           ],
           "locationmode": "geojson-id",
           "locations": [
            10,
            7,
            5,
            2,
            8,
            1
           ],
           "name": "10 - 20",
           "showlegend": true,
           "showscale": false,
           "type": "choropleth",
           "z": [
            1,
            1,
            1,
            1,
            1,
            1
           ]
          },
          {
           "colorscale": [
            [
             0,
             "#8AA6BF"
            ],
            [
             1,
             "#8AA6BF"
            ]
           ],
           "customdata": [
            [
             24.093593376142312,
             4
            ],
            [
             27.363915312399627,
             11
            ],
            [
             21.214383604085825,
             3
            ]
           ],
           "featureidkey": "properties.cartodb_id",
           "geo": "geo",
           "geojson": "https://raw.githubusercontent.com/Tenzinomics/click_that_hood/main/public/data/canada.geojson",
           "hovertemplate": "<b>%{hovertext}</b><br><br>Category=20 - 30<br>date=2016Q1<br> %=%{customdata[0]}<extra></extra>",
           "hovertext": [
            "Alberta",
            "Ontario",
            "Saskatchewan"
           ],
           "locationmode": "geojson-id",
           "locations": [
            4,
            11,
            3
           ],
           "name": "20 - 30",
           "showlegend": true,
           "showscale": false,
           "type": "choropleth",
           "z": [
            1,
            1,
            1
           ]
          },
          {
           "colorscale": [
            [
             0,
             "#587AA6"
            ],
            [
             1,
             "#587AA6"
            ]
           ],
           "customdata": [
            [
             38.747871895925144,
             6
            ]
           ],
           "featureidkey": "properties.cartodb_id",
           "geo": "geo",
           "geojson": "https://raw.githubusercontent.com/Tenzinomics/click_that_hood/main/public/data/canada.geojson",
           "hovertemplate": "<b>%{hovertext}</b><br><br>Category=30 - 40<br>date=2016Q1<br> %=%{customdata[0]}<extra></extra>",
           "hovertext": [
            "British Columbia"
           ],
           "locationmode": "geojson-id",
           "locations": [
            6
           ],
           "name": "30 - 40",
           "showlegend": true,
           "showscale": false,
           "type": "choropleth",
           "z": [
            1
           ]
          }
         ],
         "name": "2016Q1"
        },
        {
         "data": [
          {
           "colorscale": [
            [
             0,
             "#F2F2F2"
            ],
            [
             1,
             "#F2F2F2"
            ]
           ],
           "customdata": [
            [
             0,
             9
            ],
            [
             0,
             12
            ],
            [
             0,
             13
            ]
           ],
           "featureidkey": "properties.cartodb_id",
           "geo": "geo",
           "geojson": "https://raw.githubusercontent.com/Tenzinomics/click_that_hood/main/public/data/canada.geojson",
           "hovertemplate": "<b>%{hovertext}</b><br><br>Category=N/A<br>date=2016Q2<br> %=%{customdata[0]}<extra></extra>",
           "hovertext": [
            "Yukon",
            "Nunavut",
            "Northwest Territories"
           ],
           "locationmode": "geojson-id",
           "locations": [
            9,
            12,
            13
           ],
           "name": "N/A",
           "showlegend": true,
           "showscale": false,
           "type": "choropleth",
           "z": [
            1,
            1,
            1
           ]
          },
          {
           "colorscale": [
            [
             0,
             "#B0D1D9"
            ],
            [
             1,
             "#B0D1D9"
            ]
           ],
           "customdata": [
            [
             19.77500354536208,
             10
            ],
            [
             15.33758957900741,
             7
            ],
            [
             20.081628123593163,
             5
            ],
            [
             19.51591966089861,
             2
            ],
            [
             17.34625256889429,
             8
            ],
            [
             19.670928968967633,
             1
            ]
           ],
           "featureidkey": "properties.cartodb_id",
           "geo": "geo",
           "geojson": "https://raw.githubusercontent.com/Tenzinomics/click_that_hood/main/public/data/canada.geojson",
           "hovertemplate": "<b>%{hovertext}</b><br><br>Category=10 - 20<br>date=2016Q2<br> %=%{customdata[0]}<extra></extra>",
           "hovertext": [
            "Manitoba",
            "New Brunswick",
            "Newfoundland",
            "Nova Scotia",
            "Prince Edward Island",
            "Québec"
           ],
           "locationmode": "geojson-id",
           "locations": [
            10,
            7,
            5,
            2,
            8,
            1
           ],
           "name": "10 - 20",
           "showlegend": true,
           "showscale": false,
           "type": "choropleth",
           "z": [
            1,
            1,
            1,
            1,
            1,
            1
           ]
          },
          {
           "colorscale": [
            [
             0,
             "#8AA6BF"
            ],
            [
             1,
             "#8AA6BF"
            ]
           ],
           "customdata": [
            [
             24.14044643923358,
             4
            ],
            [
             27.786485723010895,
             11
            ],
            [
             21.533279655961778,
             3
            ]
           ],
           "featureidkey": "properties.cartodb_id",
           "geo": "geo",
           "geojson": "https://raw.githubusercontent.com/Tenzinomics/click_that_hood/main/public/data/canada.geojson",
           "hovertemplate": "<b>%{hovertext}</b><br><br>Category=20 - 30<br>date=2016Q2<br> %=%{customdata[0]}<extra></extra>",
           "hovertext": [
            "Alberta",
            "Ontario",
            "Saskatchewan"
           ],
           "locationmode": "geojson-id",
           "locations": [
            4,
            11,
            3
           ],
           "name": "20 - 30",
           "showlegend": true,
           "showscale": false,
           "type": "choropleth",
           "z": [
            1,
            1,
            1
           ]
          },
          {
           "colorscale": [
            [
             0,
             "#587AA6"
            ],
            [
             1,
             "#587AA6"
            ]
           ],
           "customdata": [
            [
             40.24943306708217,
             6
            ]
           ],
           "featureidkey": "properties.cartodb_id",
           "geo": "geo",
           "geojson": "https://raw.githubusercontent.com/Tenzinomics/click_that_hood/main/public/data/canada.geojson",
           "hovertemplate": "<b>%{hovertext}</b><br><br>Category=30 - 40<br>date=2016Q2<br> %=%{customdata[0]}<extra></extra>",
           "hovertext": [
            "British Columbia"
           ],
           "locationmode": "geojson-id",
           "locations": [
            6
           ],
           "name": "30 - 40",
           "showlegend": true,
           "showscale": false,
           "type": "choropleth",
           "z": [
            1
           ]
          }
         ],
         "name": "2016Q2"
        },
        {
         "data": [
          {
           "colorscale": [
            [
             0,
             "#F2F2F2"
            ],
            [
             1,
             "#F2F2F2"
            ]
           ],
           "customdata": [
            [
             0,
             9
            ],
            [
             0,
             12
            ],
            [
             0,
             13
            ]
           ],
           "featureidkey": "properties.cartodb_id",
           "geo": "geo",
           "geojson": "https://raw.githubusercontent.com/Tenzinomics/click_that_hood/main/public/data/canada.geojson",
           "hovertemplate": "<b>%{hovertext}</b><br><br>Category=N/A<br>date=2016Q3<br> %=%{customdata[0]}<extra></extra>",
           "hovertext": [
            "Yukon",
            "Nunavut",
            "Northwest Territories"
           ],
           "locationmode": "geojson-id",
           "locations": [
            9,
            12,
            13
           ],
           "name": "N/A",
           "showlegend": true,
           "showscale": false,
           "type": "choropleth",
           "z": [
            1,
            1,
            1
           ]
          },
          {
           "colorscale": [
            [
             0,
             "#B0D1D9"
            ],
            [
             1,
             "#B0D1D9"
            ]
           ],
           "customdata": [
            [
             16.543073660108117,
             7
            ],
            [
             20.223381116613478,
             5
            ],
            [
             20.644850509600733,
             2
            ],
            [
             19.51658170236535,
             8
            ],
            [
             20.499684946035003,
             1
            ]
           ],
           "featureidkey": "properties.cartodb_id",
           "geo": "geo",
           "geojson": "https://raw.githubusercontent.com/Tenzinomics/click_that_hood/main/public/data/canada.geojson",
           "hovertemplate": "<b>%{hovertext}</b><br><br>Category=10 - 20<br>date=2016Q3<br> %=%{customdata[0]}<extra></extra>",
           "hovertext": [
            "New Brunswick",
            "Newfoundland",
            "Nova Scotia",
            "Prince Edward Island",
            "Québec"
           ],
           "locationmode": "geojson-id",
           "locations": [
            7,
            5,
            2,
            8,
            1
           ],
           "name": "10 - 20",
           "showlegend": true,
           "showscale": false,
           "type": "choropleth",
           "z": [
            1,
            1,
            1,
            1,
            1
           ]
          },
          {
           "colorscale": [
            [
             0,
             "#8AA6BF"
            ],
            [
             1,
             "#8AA6BF"
            ]
           ],
           "customdata": [
            [
             24.600162725974254,
             4
            ],
            [
             21.042998899378908,
             10
            ],
            [
             29.954314331759708,
             11
            ],
            [
             22.052907270934014,
             3
            ]
           ],
           "featureidkey": "properties.cartodb_id",
           "geo": "geo",
           "geojson": "https://raw.githubusercontent.com/Tenzinomics/click_that_hood/main/public/data/canada.geojson",
           "hovertemplate": "<b>%{hovertext}</b><br><br>Category=20 - 30<br>date=2016Q3<br> %=%{customdata[0]}<extra></extra>",
           "hovertext": [
            "Alberta",
            "Manitoba",
            "Ontario",
            "Saskatchewan"
           ],
           "locationmode": "geojson-id",
           "locations": [
            4,
            10,
            11,
            3
           ],
           "name": "20 - 30",
           "showlegend": true,
           "showscale": false,
           "type": "choropleth",
           "z": [
            1,
            1,
            1,
            1
           ]
          },
          {
           "colorscale": [
            [
             0,
             "#35528C"
            ],
            [
             1,
             "#35528C"
            ]
           ],
           "customdata": [
            [
             41.21396325347582,
             6
            ]
           ],
           "featureidkey": "properties.cartodb_id",
           "geo": "geo",
           "geojson": "https://raw.githubusercontent.com/Tenzinomics/click_that_hood/main/public/data/canada.geojson",
           "hovertemplate": "<b>%{hovertext}</b><br><br>Category=40 +<br>date=2016Q3<br> %=%{customdata[0]}<extra></extra>",
           "hovertext": [
            "British Columbia"
           ],
           "locationmode": "geojson-id",
           "locations": [
            6
           ],
           "name": "40 +",
           "showlegend": true,
           "showscale": false,
           "type": "choropleth",
           "z": [
            1
           ]
          }
         ],
         "name": "2016Q3"
        },
        {
         "data": [
          {
           "colorscale": [
            [
             0,
             "#F2F2F2"
            ],
            [
             1,
             "#F2F2F2"
            ]
           ],
           "customdata": [
            [
             0,
             9
            ],
            [
             0,
             12
            ],
            [
             0,
             13
            ]
           ],
           "featureidkey": "properties.cartodb_id",
           "geo": "geo",
           "geojson": "https://raw.githubusercontent.com/Tenzinomics/click_that_hood/main/public/data/canada.geojson",
           "hovertemplate": "<b>%{hovertext}</b><br><br>Category=N/A<br>date=2016Q4<br> %=%{customdata[0]}<extra></extra>",
           "hovertext": [
            "Yukon",
            "Nunavut",
            "Northwest Territories"
           ],
           "locationmode": "geojson-id",
           "locations": [
            9,
            12,
            13
           ],
           "name": "N/A",
           "showlegend": true,
           "showscale": false,
           "type": "choropleth",
           "z": [
            1,
            1,
            1
           ]
          },
          {
           "colorscale": [
            [
             0,
             "#B0D1D9"
            ],
            [
             1,
             "#B0D1D9"
            ]
           ],
           "customdata": [
            [
             20.905722515127696,
             10
            ],
            [
             16.2070714705411,
             7
            ],
            [
             20.246427611138152,
             5
            ],
            [
             20.082684484286,
             2
            ],
            [
             17.98620651607368,
             8
            ],
            [
             19.847852592225035,
             1
            ]
           ],
           "featureidkey": "properties.cartodb_id",
           "geo": "geo",
           "geojson": "https://raw.githubusercontent.com/Tenzinomics/click_that_hood/main/public/data/canada.geojson",
           "hovertemplate": "<b>%{hovertext}</b><br><br>Category=10 - 20<br>date=2016Q4<br> %=%{customdata[0]}<extra></extra>",
           "hovertext": [
            "Manitoba",
            "New Brunswick",
            "Newfoundland",
            "Nova Scotia",
            "Prince Edward Island",
            "Québec"
           ],
           "locationmode": "geojson-id",
           "locations": [
            10,
            7,
            5,
            2,
            8,
            1
           ],
           "name": "10 - 20",
           "showlegend": true,
           "showscale": false,
           "type": "choropleth",
           "z": [
            1,
            1,
            1,
            1,
            1,
            1
           ]
          },
          {
           "colorscale": [
            [
             0,
             "#8AA6BF"
            ],
            [
             1,
             "#8AA6BF"
            ]
           ],
           "customdata": [
            [
             24.47715138019898,
             4
            ],
            [
             30.340245502006823,
             11
            ],
            [
             21.736833882241193,
             3
            ]
           ],
           "featureidkey": "properties.cartodb_id",
           "geo": "geo",
           "geojson": "https://raw.githubusercontent.com/Tenzinomics/click_that_hood/main/public/data/canada.geojson",
           "hovertemplate": "<b>%{hovertext}</b><br><br>Category=20 - 30<br>date=2016Q4<br> %=%{customdata[0]}<extra></extra>",
           "hovertext": [
            "Alberta",
            "Ontario",
            "Saskatchewan"
           ],
           "locationmode": "geojson-id",
           "locations": [
            4,
            11,
            3
           ],
           "name": "20 - 30",
           "showlegend": true,
           "showscale": false,
           "type": "choropleth",
           "z": [
            1,
            1,
            1
           ]
          },
          {
           "colorscale": [
            [
             0,
             "#587AA6"
            ],
            [
             1,
             "#587AA6"
            ]
           ],
           "customdata": [
            [
             38.36744717205492,
             6
            ]
           ],
           "featureidkey": "properties.cartodb_id",
           "geo": "geo",
           "geojson": "https://raw.githubusercontent.com/Tenzinomics/click_that_hood/main/public/data/canada.geojson",
           "hovertemplate": "<b>%{hovertext}</b><br><br>Category=30 - 40<br>date=2016Q4<br> %=%{customdata[0]}<extra></extra>",
           "hovertext": [
            "British Columbia"
           ],
           "locationmode": "geojson-id",
           "locations": [
            6
           ],
           "name": "30 - 40",
           "showlegend": true,
           "showscale": false,
           "type": "choropleth",
           "z": [
            1
           ]
          }
         ],
         "name": "2016Q4"
        },
        {
         "data": [
          {
           "colorscale": [
            [
             0,
             "#F2F2F2"
            ],
            [
             1,
             "#F2F2F2"
            ]
           ],
           "customdata": [
            [
             0,
             9
            ],
            [
             0,
             12
            ],
            [
             0,
             13
            ]
           ],
           "featureidkey": "properties.cartodb_id",
           "geo": "geo",
           "geojson": "https://raw.githubusercontent.com/Tenzinomics/click_that_hood/main/public/data/canada.geojson",
           "hovertemplate": "<b>%{hovertext}</b><br><br>Category=N/A<br>date=2017Q1<br> %=%{customdata[0]}<extra></extra>",
           "hovertext": [
            "Yukon",
            "Nunavut",
            "Northwest Territories"
           ],
           "locationmode": "geojson-id",
           "locations": [
            9,
            12,
            13
           ],
           "name": "N/A",
           "showlegend": true,
           "showscale": false,
           "type": "choropleth",
           "z": [
            1,
            1,
            1
           ]
          },
          {
           "colorscale": [
            [
             0,
             "#B0D1D9"
            ],
            [
             1,
             "#B0D1D9"
            ]
           ],
           "customdata": [
            [
             20.287629853733737,
             10
            ],
            [
             16.010867232052792,
             7
            ],
            [
             20.74481773816423,
             5
            ],
            [
             20.618967521535772,
             8
            ],
            [
             19.647971531262925,
             1
            ]
           ],
           "featureidkey": "properties.cartodb_id",
           "geo": "geo",
           "geojson": "https://raw.githubusercontent.com/Tenzinomics/click_that_hood/main/public/data/canada.geojson",
           "hovertemplate": "<b>%{hovertext}</b><br><br>Category=10 - 20<br>date=2017Q1<br> %=%{customdata[0]}<extra></extra>",
           "hovertext": [
            "Manitoba",
            "New Brunswick",
            "Newfoundland",
            "Prince Edward Island",
            "Québec"
           ],
           "locationmode": "geojson-id",
           "locations": [
            10,
            7,
            5,
            8,
            1
           ],
           "name": "10 - 20",
           "showlegend": true,
           "showscale": false,
           "type": "choropleth",
           "z": [
            1,
            1,
            1,
            1,
            1
           ]
          },
          {
           "colorscale": [
            [
             0,
             "#8AA6BF"
            ],
            [
             1,
             "#8AA6BF"
            ]
           ],
           "customdata": [
            [
             24.58836181419218,
             4
            ],
            [
             21.735767684026484,
             2
            ],
            [
             30.397297238780524,
             11
            ],
            [
             21.996830418722272,
             3
            ]
           ],
           "featureidkey": "properties.cartodb_id",
           "geo": "geo",
           "geojson": "https://raw.githubusercontent.com/Tenzinomics/click_that_hood/main/public/data/canada.geojson",
           "hovertemplate": "<b>%{hovertext}</b><br><br>Category=20 - 30<br>date=2017Q1<br> %=%{customdata[0]}<extra></extra>",
           "hovertext": [
            "Alberta",
            "Nova Scotia",
            "Ontario",
            "Saskatchewan"
           ],
           "locationmode": "geojson-id",
           "locations": [
            4,
            2,
            11,
            3
           ],
           "name": "20 - 30",
           "showlegend": true,
           "showscale": false,
           "type": "choropleth",
           "z": [
            1,
            1,
            1,
            1
           ]
          },
          {
           "colorscale": [
            [
             0,
             "#587AA6"
            ],
            [
             1,
             "#587AA6"
            ]
           ],
           "customdata": [
            [
             34.98872278200523,
             6
            ]
           ],
           "featureidkey": "properties.cartodb_id",
           "geo": "geo",
           "geojson": "https://raw.githubusercontent.com/Tenzinomics/click_that_hood/main/public/data/canada.geojson",
           "hovertemplate": "<b>%{hovertext}</b><br><br>Category=30 - 40<br>date=2017Q1<br> %=%{customdata[0]}<extra></extra>",
           "hovertext": [
            "British Columbia"
           ],
           "locationmode": "geojson-id",
           "locations": [
            6
           ],
           "name": "30 - 40",
           "showlegend": true,
           "showscale": false,
           "type": "choropleth",
           "z": [
            1
           ]
          }
         ],
         "name": "2017Q1"
        },
        {
         "data": [
          {
           "colorscale": [
            [
             0,
             "#F2F2F2"
            ],
            [
             1,
             "#F2F2F2"
            ]
           ],
           "customdata": [
            [
             0,
             9
            ],
            [
             0,
             12
            ],
            [
             0,
             13
            ]
           ],
           "featureidkey": "properties.cartodb_id",
           "geo": "geo",
           "geojson": "https://raw.githubusercontent.com/Tenzinomics/click_that_hood/main/public/data/canada.geojson",
           "hovertemplate": "<b>%{hovertext}</b><br><br>Category=N/A<br>date=2017Q2<br> %=%{customdata[0]}<extra></extra>",
           "hovertext": [
            "Yukon",
            "Nunavut",
            "Northwest Territories"
           ],
           "locationmode": "geojson-id",
           "locations": [
            9,
            12,
            13
           ],
           "name": "N/A",
           "showlegend": true,
           "showscale": false,
           "type": "choropleth",
           "z": [
            1,
            1,
            1
           ]
          },
          {
           "colorscale": [
            [
             0,
             "#B0D1D9"
            ],
            [
             1,
             "#B0D1D9"
            ]
           ],
           "customdata": [
            [
             20.15988626762411,
             10
            ],
            [
             15.215169994526583,
             7
            ],
            [
             20.436172055366917,
             5
            ],
            [
             20.354687787914884,
             8
            ],
            [
             19.389702399619498,
             1
            ]
           ],
           "featureidkey": "properties.cartodb_id",
           "geo": "geo",
           "geojson": "https://raw.githubusercontent.com/Tenzinomics/click_that_hood/main/public/data/canada.geojson",
           "hovertemplate": "<b>%{hovertext}</b><br><br>Category=10 - 20<br>date=2017Q2<br> %=%{customdata[0]}<extra></extra>",
           "hovertext": [
            "Manitoba",
            "New Brunswick",
            "Newfoundland",
            "Prince Edward Island",
            "Québec"
           ],
           "locationmode": "geojson-id",
           "locations": [
            10,
            7,
            5,
            8,
            1
           ],
           "name": "10 - 20",
           "showlegend": true,
           "showscale": false,
           "type": "choropleth",
           "z": [
            1,
            1,
            1,
            1,
            1
           ]
          },
          {
           "colorscale": [
            [
             0,
             "#8AA6BF"
            ],
            [
             1,
             "#8AA6BF"
            ]
           ],
           "customdata": [
            [
             24.212262956266212,
             4
            ],
            [
             21.080535945325213,
             2
            ],
            [
             30.765144260138165,
             11
            ],
            [
             21.62765285983492,
             3
            ]
           ],
           "featureidkey": "properties.cartodb_id",
           "geo": "geo",
           "geojson": "https://raw.githubusercontent.com/Tenzinomics/click_that_hood/main/public/data/canada.geojson",
           "hovertemplate": "<b>%{hovertext}</b><br><br>Category=20 - 30<br>date=2017Q2<br> %=%{customdata[0]}<extra></extra>",
           "hovertext": [
            "Alberta",
            "Nova Scotia",
            "Ontario",
            "Saskatchewan"
           ],
           "locationmode": "geojson-id",
           "locations": [
            4,
            2,
            11,
            3
           ],
           "name": "20 - 30",
           "showlegend": true,
           "showscale": false,
           "type": "choropleth",
           "z": [
            1,
            1,
            1,
            1
           ]
          },
          {
           "colorscale": [
            [
             0,
             "#587AA6"
            ],
            [
             1,
             "#587AA6"
            ]
           ],
           "customdata": [
            [
             35.59862416420963,
             6
            ]
           ],
           "featureidkey": "properties.cartodb_id",
           "geo": "geo",
           "geojson": "https://raw.githubusercontent.com/Tenzinomics/click_that_hood/main/public/data/canada.geojson",
           "hovertemplate": "<b>%{hovertext}</b><br><br>Category=30 - 40<br>date=2017Q2<br> %=%{customdata[0]}<extra></extra>",
           "hovertext": [
            "British Columbia"
           ],
           "locationmode": "geojson-id",
           "locations": [
            6
           ],
           "name": "30 - 40",
           "showlegend": true,
           "showscale": false,
           "type": "choropleth",
           "z": [
            1
           ]
          }
         ],
         "name": "2017Q2"
        },
        {
         "data": [
          {
           "colorscale": [
            [
             0,
             "#F2F2F2"
            ],
            [
             1,
             "#F2F2F2"
            ]
           ],
           "customdata": [
            [
             0,
             9
            ],
            [
             0,
             12
            ],
            [
             0,
             13
            ]
           ],
           "featureidkey": "properties.cartodb_id",
           "geo": "geo",
           "geojson": "https://raw.githubusercontent.com/Tenzinomics/click_that_hood/main/public/data/canada.geojson",
           "hovertemplate": "<b>%{hovertext}</b><br><br>Category=N/A<br>date=2017Q3<br> %=%{customdata[0]}<extra></extra>",
           "hovertext": [
            "Yukon",
            "Nunavut",
            "Northwest Territories"
           ],
           "locationmode": "geojson-id",
           "locations": [
            9,
            12,
            13
           ],
           "name": "N/A",
           "showlegend": true,
           "showscale": false,
           "type": "choropleth",
           "z": [
            1,
            1,
            1
           ]
          },
          {
           "colorscale": [
            [
             0,
             "#B0D1D9"
            ],
            [
             1,
             "#B0D1D9"
            ]
           ],
           "customdata": [
            [
             16.946281348519037,
             7
            ],
            [
             20.461942281090586,
             1
            ]
           ],
           "featureidkey": "properties.cartodb_id",
           "geo": "geo",
           "geojson": "https://raw.githubusercontent.com/Tenzinomics/click_that_hood/main/public/data/canada.geojson",
           "hovertemplate": "<b>%{hovertext}</b><br><br>Category=10 - 20<br>date=2017Q3<br> %=%{customdata[0]}<extra></extra>",
           "hovertext": [
            "New Brunswick",
            "Québec"
           ],
           "locationmode": "geojson-id",
           "locations": [
            7,
            1
           ],
           "name": "10 - 20",
           "showlegend": true,
           "showscale": false,
           "type": "choropleth",
           "z": [
            1,
            1
           ]
          },
          {
           "colorscale": [
            [
             0,
             "#8AA6BF"
            ],
            [
             1,
             "#8AA6BF"
            ]
           ],
           "customdata": [
            [
             25.382333173777216,
             4
            ],
            [
             21.775910842007974,
             10
            ],
            [
             21.864697327702316,
             5
            ],
            [
             22.993938523347495,
             2
            ],
            [
             21.043097701758875,
             8
            ],
            [
             22.576173268220902,
             3
            ]
           ],
           "featureidkey": "properties.cartodb_id",
           "geo": "geo",
           "geojson": "https://raw.githubusercontent.com/Tenzinomics/click_that_hood/main/public/data/canada.geojson",
           "hovertemplate": "<b>%{hovertext}</b><br><br>Category=20 - 30<br>date=2017Q3<br> %=%{customdata[0]}<extra></extra>",
           "hovertext": [
            "Alberta",
            "Manitoba",
            "Newfoundland",
            "Nova Scotia",
            "Prince Edward Island",
            "Saskatchewan"
           ],
           "locationmode": "geojson-id",
           "locations": [
            4,
            10,
            5,
            2,
            8,
            3
           ],
           "name": "20 - 30",
           "showlegend": true,
           "showscale": false,
           "type": "choropleth",
           "z": [
            1,
            1,
            1,
            1,
            1,
            1
           ]
          },
          {
           "colorscale": [
            [
             0,
             "#587AA6"
            ],
            [
             1,
             "#587AA6"
            ]
           ],
           "customdata": [
            [
             38.379079466048275,
             6
            ],
            [
             32.58989136599767,
             11
            ]
           ],
           "featureidkey": "properties.cartodb_id",
           "geo": "geo",
           "geojson": "https://raw.githubusercontent.com/Tenzinomics/click_that_hood/main/public/data/canada.geojson",
           "hovertemplate": "<b>%{hovertext}</b><br><br>Category=30 - 40<br>date=2017Q3<br> %=%{customdata[0]}<extra></extra>",
           "hovertext": [
            "British Columbia",
            "Ontario"
           ],
           "locationmode": "geojson-id",
           "locations": [
            6,
            11
           ],
           "name": "30 - 40",
           "showlegend": true,
           "showscale": false,
           "type": "choropleth",
           "z": [
            1,
            1
           ]
          }
         ],
         "name": "2017Q3"
        },
        {
         "data": [
          {
           "colorscale": [
            [
             0,
             "#F2F2F2"
            ],
            [
             1,
             "#F2F2F2"
            ]
           ],
           "customdata": [
            [
             0,
             9
            ],
            [
             0,
             12
            ],
            [
             0,
             13
            ]
           ],
           "featureidkey": "properties.cartodb_id",
           "geo": "geo",
           "geojson": "https://raw.githubusercontent.com/Tenzinomics/click_that_hood/main/public/data/canada.geojson",
           "hovertemplate": "<b>%{hovertext}</b><br><br>Category=N/A<br>date=2017Q4<br> %=%{customdata[0]}<extra></extra>",
           "hovertext": [
            "Yukon",
            "Nunavut",
            "Northwest Territories"
           ],
           "locationmode": "geojson-id",
           "locations": [
            9,
            12,
            13
           ],
           "name": "N/A",
           "showlegend": true,
           "showscale": false,
           "type": "choropleth",
           "z": [
            1,
            1,
            1
           ]
          },
          {
           "colorscale": [
            [
             0,
             "#B0D1D9"
            ],
            [
             1,
             "#B0D1D9"
            ]
           ],
           "customdata": [
            [
             16.737741069347553,
             7
            ],
            [
             20.44991186481562,
             1
            ]
           ],
           "featureidkey": "properties.cartodb_id",
           "geo": "geo",
           "geojson": "https://raw.githubusercontent.com/Tenzinomics/click_that_hood/main/public/data/canada.geojson",
           "hovertemplate": "<b>%{hovertext}</b><br><br>Category=10 - 20<br>date=2017Q4<br> %=%{customdata[0]}<extra></extra>",
           "hovertext": [
            "New Brunswick",
            "Québec"
           ],
           "locationmode": "geojson-id",
           "locations": [
            7,
            1
           ],
           "name": "10 - 20",
           "showlegend": true,
           "showscale": false,
           "type": "choropleth",
           "z": [
            1,
            1
           ]
          },
          {
           "colorscale": [
            [
             0,
             "#8AA6BF"
            ],
            [
             1,
             "#8AA6BF"
            ]
           ],
           "customdata": [
            [
             25.956722143651696,
             4
            ],
            [
             22.321034747711295,
             10
            ],
            [
             21.617559940347704,
             5
            ],
            [
             22.77364191258471,
             2
            ],
            [
             21.3616352709251,
             8
            ],
            [
             22.694130698499617,
             3
            ]
           ],
           "featureidkey": "properties.cartodb_id",
           "geo": "geo",
           "geojson": "https://raw.githubusercontent.com/Tenzinomics/click_that_hood/main/public/data/canada.geojson",
           "hovertemplate": "<b>%{hovertext}</b><br><br>Category=20 - 30<br>date=2017Q4<br> %=%{customdata[0]}<extra></extra>",
           "hovertext": [
            "Alberta",
            "Manitoba",
            "Newfoundland",
            "Nova Scotia",
            "Prince Edward Island",
            "Saskatchewan"
           ],
           "locationmode": "geojson-id",
           "locations": [
            4,
            10,
            5,
            2,
            8,
            3
           ],
           "name": "20 - 30",
           "showlegend": true,
           "showscale": false,
           "type": "choropleth",
           "z": [
            1,
            1,
            1,
            1,
            1,
            1
           ]
          },
          {
           "colorscale": [
            [
             0,
             "#587AA6"
            ],
            [
             1,
             "#587AA6"
            ]
           ],
           "customdata": [
            [
             38.44231302267241,
             6
            ],
            [
             31.894533944773556,
             11
            ]
           ],
           "featureidkey": "properties.cartodb_id",
           "geo": "geo",
           "geojson": "https://raw.githubusercontent.com/Tenzinomics/click_that_hood/main/public/data/canada.geojson",
           "hovertemplate": "<b>%{hovertext}</b><br><br>Category=30 - 40<br>date=2017Q4<br> %=%{customdata[0]}<extra></extra>",
           "hovertext": [
            "British Columbia",
            "Ontario"
           ],
           "locationmode": "geojson-id",
           "locations": [
            6,
            11
           ],
           "name": "30 - 40",
           "showlegend": true,
           "showscale": false,
           "type": "choropleth",
           "z": [
            1,
            1
           ]
          }
         ],
         "name": "2017Q4"
        },
        {
         "data": [
          {
           "colorscale": [
            [
             0,
             "#F2F2F2"
            ],
            [
             1,
             "#F2F2F2"
            ]
           ],
           "customdata": [
            [
             0,
             9
            ],
            [
             0,
             12
            ],
            [
             0,
             13
            ]
           ],
           "featureidkey": "properties.cartodb_id",
           "geo": "geo",
           "geojson": "https://raw.githubusercontent.com/Tenzinomics/click_that_hood/main/public/data/canada.geojson",
           "hovertemplate": "<b>%{hovertext}</b><br><br>Category=N/A<br>date=2018Q1<br> %=%{customdata[0]}<extra></extra>",
           "hovertext": [
            "Yukon",
            "Nunavut",
            "Northwest Territories"
           ],
           "locationmode": "geojson-id",
           "locations": [
            9,
            12,
            13
           ],
           "name": "N/A",
           "showlegend": true,
           "showscale": false,
           "type": "choropleth",
           "z": [
            1,
            1,
            1
           ]
          },
          {
           "colorscale": [
            [
             0,
             "#B0D1D9"
            ],
            [
             1,
             "#B0D1D9"
            ]
           ],
           "customdata": [
            [
             16.5229213899632,
             7
            ],
            [
             20.662724577907333,
             8
            ]
           ],
           "featureidkey": "properties.cartodb_id",
           "geo": "geo",
           "geojson": "https://raw.githubusercontent.com/Tenzinomics/click_that_hood/main/public/data/canada.geojson",
           "hovertemplate": "<b>%{hovertext}</b><br><br>Category=10 - 20<br>date=2018Q1<br> %=%{customdata[0]}<extra></extra>",
           "hovertext": [
            "New Brunswick",
            "Prince Edward Island"
           ],
           "locationmode": "geojson-id",
           "locations": [
            7,
            8
           ],
           "name": "10 - 20",
           "showlegend": true,
           "showscale": false,
           "type": "choropleth",
           "z": [
            1,
            1
           ]
          },
          {
           "colorscale": [
            [
             0,
             "#8AA6BF"
            ],
            [
             1,
             "#8AA6BF"
            ]
           ],
           "customdata": [
            [
             25.687354863013717,
             4
            ],
            [
             21.989461711149698,
             10
            ],
            [
             21.577186228016455,
             5
            ],
            [
             22.813090894901553,
             2
            ],
            [
             21.156167264665086,
             1
            ],
            [
             23.18080100741731,
             3
            ]
           ],
           "featureidkey": "properties.cartodb_id",
           "geo": "geo",
           "geojson": "https://raw.githubusercontent.com/Tenzinomics/click_that_hood/main/public/data/canada.geojson",
           "hovertemplate": "<b>%{hovertext}</b><br><br>Category=20 - 30<br>date=2018Q1<br> %=%{customdata[0]}<extra></extra>",
           "hovertext": [
            "Alberta",
            "Manitoba",
            "Newfoundland",
            "Nova Scotia",
            "Québec",
            "Saskatchewan"
           ],
           "locationmode": "geojson-id",
           "locations": [
            4,
            10,
            5,
            2,
            1,
            3
           ],
           "name": "20 - 30",
           "showlegend": true,
           "showscale": false,
           "type": "choropleth",
           "z": [
            1,
            1,
            1,
            1,
            1,
            1
           ]
          },
          {
           "colorscale": [
            [
             0,
             "#587AA6"
            ],
            [
             1,
             "#587AA6"
            ]
           ],
           "customdata": [
            [
             40.94942358438707,
             6
            ],
            [
             31.541041780575174,
             11
            ]
           ],
           "featureidkey": "properties.cartodb_id",
           "geo": "geo",
           "geojson": "https://raw.githubusercontent.com/Tenzinomics/click_that_hood/main/public/data/canada.geojson",
           "hovertemplate": "<b>%{hovertext}</b><br><br>Category=30 - 40<br>date=2018Q1<br> %=%{customdata[0]}<extra></extra>",
           "hovertext": [
            "British Columbia",
            "Ontario"
           ],
           "locationmode": "geojson-id",
           "locations": [
            6,
            11
           ],
           "name": "30 - 40",
           "showlegend": true,
           "showscale": false,
           "type": "choropleth",
           "z": [
            1,
            1
           ]
          }
         ],
         "name": "2018Q1"
        },
        {
         "data": [
          {
           "colorscale": [
            [
             0,
             "#F2F2F2"
            ],
            [
             1,
             "#F2F2F2"
            ]
           ],
           "customdata": [
            [
             0,
             9
            ],
            [
             0,
             12
            ],
            [
             0,
             13
            ]
           ],
           "featureidkey": "properties.cartodb_id",
           "geo": "geo",
           "geojson": "https://raw.githubusercontent.com/Tenzinomics/click_that_hood/main/public/data/canada.geojson",
           "hovertemplate": "<b>%{hovertext}</b><br><br>Category=N/A<br>date=2018Q2<br> %=%{customdata[0]}<extra></extra>",
           "hovertext": [
            "Yukon",
            "Nunavut",
            "Northwest Territories"
           ],
           "locationmode": "geojson-id",
           "locations": [
            9,
            12,
            13
           ],
           "name": "N/A",
           "showlegend": true,
           "showscale": false,
           "type": "choropleth",
           "z": [
            1,
            1,
            1
           ]
          },
          {
           "colorscale": [
            [
             0,
             "#B0D1D9"
            ],
            [
             1,
             "#B0D1D9"
            ]
           ],
           "customdata": [
            [
             16.680655525482283,
             7
            ]
           ],
           "featureidkey": "properties.cartodb_id",
           "geo": "geo",
           "geojson": "https://raw.githubusercontent.com/Tenzinomics/click_that_hood/main/public/data/canada.geojson",
           "hovertemplate": "<b>%{hovertext}</b><br><br>Category=10 - 20<br>date=2018Q2<br> %=%{customdata[0]}<extra></extra>",
           "hovertext": [
            "New Brunswick"
           ],
           "locationmode": "geojson-id",
           "locations": [
            7
           ],
           "name": "10 - 20",
           "showlegend": true,
           "showscale": false,
           "type": "choropleth",
           "z": [
            1
           ]
          },
          {
           "colorscale": [
            [
             0,
             "#8AA6BF"
            ],
            [
             1,
             "#8AA6BF"
            ]
           ],
           "customdata": [
            [
             25.86558010991636,
             4
            ],
            [
             22.13428565752758,
             10
            ],
            [
             21.31379137775799,
             5
            ],
            [
             22.225283901059655,
             2
            ],
            [
             21.195754154298015,
             8
            ],
            [
             22.35219643119088,
             1
            ],
            [
             23.309262814791865,
             3
            ]
           ],
           "featureidkey": "properties.cartodb_id",
           "geo": "geo",
           "geojson": "https://raw.githubusercontent.com/Tenzinomics/click_that_hood/main/public/data/canada.geojson",
           "hovertemplate": "<b>%{hovertext}</b><br><br>Category=20 - 30<br>date=2018Q2<br> %=%{customdata[0]}<extra></extra>",
           "hovertext": [
            "Alberta",
            "Manitoba",
            "Newfoundland",
            "Nova Scotia",
            "Prince Edward Island",
            "Québec",
            "Saskatchewan"
           ],
           "locationmode": "geojson-id",
           "locations": [
            4,
            10,
            5,
            2,
            8,
            1,
            3
           ],
           "name": "20 - 30",
           "showlegend": true,
           "showscale": false,
           "type": "choropleth",
           "z": [
            1,
            1,
            1,
            1,
            1,
            1,
            1
           ]
          },
          {
           "colorscale": [
            [
             0,
             "#587AA6"
            ],
            [
             1,
             "#587AA6"
            ]
           ],
           "customdata": [
            [
             39.93962915140867,
             6
            ],
            [
             31.180841623356976,
             11
            ]
           ],
           "featureidkey": "properties.cartodb_id",
           "geo": "geo",
           "geojson": "https://raw.githubusercontent.com/Tenzinomics/click_that_hood/main/public/data/canada.geojson",
           "hovertemplate": "<b>%{hovertext}</b><br><br>Category=30 - 40<br>date=2018Q2<br> %=%{customdata[0]}<extra></extra>",
           "hovertext": [
            "British Columbia",
            "Ontario"
           ],
           "locationmode": "geojson-id",
           "locations": [
            6,
            11
           ],
           "name": "30 - 40",
           "showlegend": true,
           "showscale": false,
           "type": "choropleth",
           "z": [
            1,
            1
           ]
          }
         ],
         "name": "2018Q2"
        },
        {
         "data": [
          {
           "colorscale": [
            [
             0,
             "#F2F2F2"
            ],
            [
             1,
             "#F2F2F2"
            ]
           ],
           "customdata": [
            [
             0,
             9
            ],
            [
             0,
             12
            ],
            [
             0,
             13
            ]
           ],
           "featureidkey": "properties.cartodb_id",
           "geo": "geo",
           "geojson": "https://raw.githubusercontent.com/Tenzinomics/click_that_hood/main/public/data/canada.geojson",
           "hovertemplate": "<b>%{hovertext}</b><br><br>Category=N/A<br>date=2018Q3<br> %=%{customdata[0]}<extra></extra>",
           "hovertext": [
            "Yukon",
            "Nunavut",
            "Northwest Territories"
           ],
           "locationmode": "geojson-id",
           "locations": [
            9,
            12,
            13
           ],
           "name": "N/A",
           "showlegend": true,
           "showscale": false,
           "type": "choropleth",
           "z": [
            1,
            1,
            1
           ]
          },
          {
           "colorscale": [
            [
             0,
             "#B0D1D9"
            ],
            [
             1,
             "#B0D1D9"
            ]
           ],
           "customdata": [
            [
             18.15476778395468,
             7
            ]
           ],
           "featureidkey": "properties.cartodb_id",
           "geo": "geo",
           "geojson": "https://raw.githubusercontent.com/Tenzinomics/click_that_hood/main/public/data/canada.geojson",
           "hovertemplate": "<b>%{hovertext}</b><br><br>Category=10 - 20<br>date=2018Q3<br> %=%{customdata[0]}<extra></extra>",
           "hovertext": [
            "New Brunswick"
           ],
           "locationmode": "geojson-id",
           "locations": [
            7
           ],
           "name": "10 - 20",
           "showlegend": true,
           "showscale": false,
           "type": "choropleth",
           "z": [
            1
           ]
          },
          {
           "colorscale": [
            [
             0,
             "#8AA6BF"
            ],
            [
             1,
             "#8AA6BF"
            ]
           ],
           "customdata": [
            [
             26.424661411101297,
             4
            ],
            [
             23.796696266575896,
             10
            ],
            [
             21.545078280836837,
             5
            ],
            [
             23.86658328853554,
             2
            ],
            [
             21.42473595744064,
             8
            ],
            [
             23.131916338938183,
             1
            ],
            [
             23.92932267847597,
             3
            ]
           ],
           "featureidkey": "properties.cartodb_id",
           "geo": "geo",
           "geojson": "https://raw.githubusercontent.com/Tenzinomics/click_that_hood/main/public/data/canada.geojson",
           "hovertemplate": "<b>%{hovertext}</b><br><br>Category=20 - 30<br>date=2018Q3<br> %=%{customdata[0]}<extra></extra>",
           "hovertext": [
            "Alberta",
            "Manitoba",
            "Newfoundland",
            "Nova Scotia",
            "Prince Edward Island",
            "Québec",
            "Saskatchewan"
           ],
           "locationmode": "geojson-id",
           "locations": [
            4,
            10,
            5,
            2,
            8,
            1,
            3
           ],
           "name": "20 - 30",
           "showlegend": true,
           "showscale": false,
           "type": "choropleth",
           "z": [
            1,
            1,
            1,
            1,
            1,
            1,
            1
           ]
          },
          {
           "colorscale": [
            [
             0,
             "#587AA6"
            ],
            [
             1,
             "#587AA6"
            ]
           ],
           "customdata": [
            [
             32.7217157625528,
             11
            ]
           ],
           "featureidkey": "properties.cartodb_id",
           "geo": "geo",
           "geojson": "https://raw.githubusercontent.com/Tenzinomics/click_that_hood/main/public/data/canada.geojson",
           "hovertemplate": "<b>%{hovertext}</b><br><br>Category=30 - 40<br>date=2018Q3<br> %=%{customdata[0]}<extra></extra>",
           "hovertext": [
            "Ontario"
           ],
           "locationmode": "geojson-id",
           "locations": [
            11
           ],
           "name": "30 - 40",
           "showlegend": true,
           "showscale": false,
           "type": "choropleth",
           "z": [
            1
           ]
          },
          {
           "colorscale": [
            [
             0,
             "#35528C"
            ],
            [
             1,
             "#35528C"
            ]
           ],
           "customdata": [
            [
             41.091165739308124,
             6
            ]
           ],
           "featureidkey": "properties.cartodb_id",
           "geo": "geo",
           "geojson": "https://raw.githubusercontent.com/Tenzinomics/click_that_hood/main/public/data/canada.geojson",
           "hovertemplate": "<b>%{hovertext}</b><br><br>Category=40 +<br>date=2018Q3<br> %=%{customdata[0]}<extra></extra>",
           "hovertext": [
            "British Columbia"
           ],
           "locationmode": "geojson-id",
           "locations": [
            6
           ],
           "name": "40 +",
           "showlegend": true,
           "showscale": false,
           "type": "choropleth",
           "z": [
            1
           ]
          }
         ],
         "name": "2018Q3"
        },
        {
         "data": [
          {
           "colorscale": [
            [
             0,
             "#F2F2F2"
            ],
            [
             1,
             "#F2F2F2"
            ]
           ],
           "customdata": [
            [
             0,
             9
            ],
            [
             0,
             12
            ],
            [
             0,
             13
            ]
           ],
           "featureidkey": "properties.cartodb_id",
           "geo": "geo",
           "geojson": "https://raw.githubusercontent.com/Tenzinomics/click_that_hood/main/public/data/canada.geojson",
           "hovertemplate": "<b>%{hovertext}</b><br><br>Category=N/A<br>date=2018Q4<br> %=%{customdata[0]}<extra></extra>",
           "hovertext": [
            "Yukon",
            "Nunavut",
            "Northwest Territories"
           ],
           "locationmode": "geojson-id",
           "locations": [
            9,
            12,
            13
           ],
           "name": "N/A",
           "showlegend": true,
           "showscale": false,
           "type": "choropleth",
           "z": [
            1,
            1,
            1
           ]
          },
          {
           "colorscale": [
            [
             0,
             "#B0D1D9"
            ],
            [
             1,
             "#B0D1D9"
            ]
           ],
           "customdata": [
            [
             17.405852272086186,
             7
            ]
           ],
           "featureidkey": "properties.cartodb_id",
           "geo": "geo",
           "geojson": "https://raw.githubusercontent.com/Tenzinomics/click_that_hood/main/public/data/canada.geojson",
           "hovertemplate": "<b>%{hovertext}</b><br><br>Category=10 - 20<br>date=2018Q4<br> %=%{customdata[0]}<extra></extra>",
           "hovertext": [
            "New Brunswick"
           ],
           "locationmode": "geojson-id",
           "locations": [
            7
           ],
           "name": "10 - 20",
           "showlegend": true,
           "showscale": false,
           "type": "choropleth",
           "z": [
            1
           ]
          },
          {
           "colorscale": [
            [
             0,
             "#8AA6BF"
            ],
            [
             1,
             "#8AA6BF"
            ]
           ],
           "customdata": [
            [
             25.770271773720527,
             4
            ],
            [
             23.239778154621334,
             10
            ],
            [
             21.275454433277645,
             5
            ],
            [
             22.67800596161994,
             2
            ],
            [
             21.095123089882524,
             8
            ],
            [
             21.553097723096474,
             1
            ],
            [
             23.074027001891796,
             3
            ]
           ],
           "featureidkey": "properties.cartodb_id",
           "geo": "geo",
           "geojson": "https://raw.githubusercontent.com/Tenzinomics/click_that_hood/main/public/data/canada.geojson",
           "hovertemplate": "<b>%{hovertext}</b><br><br>Category=20 - 30<br>date=2018Q4<br> %=%{customdata[0]}<extra></extra>",
           "hovertext": [
            "Alberta",
            "Manitoba",
            "Newfoundland",
            "Nova Scotia",
            "Prince Edward Island",
            "Québec",
            "Saskatchewan"
           ],
           "locationmode": "geojson-id",
           "locations": [
            4,
            10,
            5,
            2,
            8,
            1,
            3
           ],
           "name": "20 - 30",
           "showlegend": true,
           "showscale": false,
           "type": "choropleth",
           "z": [
            1,
            1,
            1,
            1,
            1,
            1,
            1
           ]
          },
          {
           "colorscale": [
            [
             0,
             "#587AA6"
            ],
            [
             1,
             "#587AA6"
            ]
           ],
           "customdata": [
            [
             39.813886365821546,
             6
            ],
            [
             32.32857949842386,
             11
            ]
           ],
           "featureidkey": "properties.cartodb_id",
           "geo": "geo",
           "geojson": "https://raw.githubusercontent.com/Tenzinomics/click_that_hood/main/public/data/canada.geojson",
           "hovertemplate": "<b>%{hovertext}</b><br><br>Category=30 - 40<br>date=2018Q4<br> %=%{customdata[0]}<extra></extra>",
           "hovertext": [
            "British Columbia",
            "Ontario"
           ],
           "locationmode": "geojson-id",
           "locations": [
            6,
            11
           ],
           "name": "30 - 40",
           "showlegend": true,
           "showscale": false,
           "type": "choropleth",
           "z": [
            1,
            1
           ]
          }
         ],
         "name": "2018Q4"
        },
        {
         "data": [
          {
           "colorscale": [
            [
             0,
             "#F2F2F2"
            ],
            [
             1,
             "#F2F2F2"
            ]
           ],
           "customdata": [
            [
             0,
             9
            ],
            [
             0,
             12
            ],
            [
             0,
             13
            ]
           ],
           "featureidkey": "properties.cartodb_id",
           "geo": "geo",
           "geojson": "https://raw.githubusercontent.com/Tenzinomics/click_that_hood/main/public/data/canada.geojson",
           "hovertemplate": "<b>%{hovertext}</b><br><br>Category=N/A<br>date=2019Q1<br> %=%{customdata[0]}<extra></extra>",
           "hovertext": [
            "Yukon",
            "Nunavut",
            "Northwest Territories"
           ],
           "locationmode": "geojson-id",
           "locations": [
            9,
            12,
            13
           ],
           "name": "N/A",
           "showlegend": true,
           "showscale": false,
           "type": "choropleth",
           "z": [
            1,
            1,
            1
           ]
          },
          {
           "colorscale": [
            [
             0,
             "#B0D1D9"
            ],
            [
             1,
             "#B0D1D9"
            ]
           ],
           "customdata": [
            [
             17.163233979051075,
             7
            ]
           ],
           "featureidkey": "properties.cartodb_id",
           "geo": "geo",
           "geojson": "https://raw.githubusercontent.com/Tenzinomics/click_that_hood/main/public/data/canada.geojson",
           "hovertemplate": "<b>%{hovertext}</b><br><br>Category=10 - 20<br>date=2019Q1<br> %=%{customdata[0]}<extra></extra>",
           "hovertext": [
            "New Brunswick"
           ],
           "locationmode": "geojson-id",
           "locations": [
            7
           ],
           "name": "10 - 20",
           "showlegend": true,
           "showscale": false,
           "type": "choropleth",
           "z": [
            1
           ]
          },
          {
           "colorscale": [
            [
             0,
             "#8AA6BF"
            ],
            [
             1,
             "#8AA6BF"
            ]
           ],
           "customdata": [
            [
             26.182890431198363,
             4
            ],
            [
             22.775812228721158,
             10
            ],
            [
             22.132485498650368,
             5
            ],
            [
             22.28338862345871,
             2
            ],
            [
             21.1503656582543,
             8
            ],
            [
             21.17293182767468,
             1
            ],
            [
             22.517013913434397,
             3
            ]
           ],
           "featureidkey": "properties.cartodb_id",
           "geo": "geo",
           "geojson": "https://raw.githubusercontent.com/Tenzinomics/click_that_hood/main/public/data/canada.geojson",
           "hovertemplate": "<b>%{hovertext}</b><br><br>Category=20 - 30<br>date=2019Q1<br> %=%{customdata[0]}<extra></extra>",
           "hovertext": [
            "Alberta",
            "Manitoba",
            "Newfoundland",
            "Nova Scotia",
            "Prince Edward Island",
            "Québec",
            "Saskatchewan"
           ],
           "locationmode": "geojson-id",
           "locations": [
            4,
            10,
            5,
            2,
            8,
            1,
            3
           ],
           "name": "20 - 30",
           "showlegend": true,
           "showscale": false,
           "type": "choropleth",
           "z": [
            1,
            1,
            1,
            1,
            1,
            1,
            1
           ]
          },
          {
           "colorscale": [
            [
             0,
             "#587AA6"
            ],
            [
             1,
             "#587AA6"
            ]
           ],
           "customdata": [
            [
             38.501243122870335,
             6
            ],
            [
             32.93418951593801,
             11
            ]
           ],
           "featureidkey": "properties.cartodb_id",
           "geo": "geo",
           "geojson": "https://raw.githubusercontent.com/Tenzinomics/click_that_hood/main/public/data/canada.geojson",
           "hovertemplate": "<b>%{hovertext}</b><br><br>Category=30 - 40<br>date=2019Q1<br> %=%{customdata[0]}<extra></extra>",
           "hovertext": [
            "British Columbia",
            "Ontario"
           ],
           "locationmode": "geojson-id",
           "locations": [
            6,
            11
           ],
           "name": "30 - 40",
           "showlegend": true,
           "showscale": false,
           "type": "choropleth",
           "z": [
            1,
            1
           ]
          }
         ],
         "name": "2019Q1"
        },
        {
         "data": [
          {
           "colorscale": [
            [
             0,
             "#F2F2F2"
            ],
            [
             1,
             "#F2F2F2"
            ]
           ],
           "customdata": [
            [
             0,
             9
            ],
            [
             0,
             12
            ],
            [
             0,
             13
            ]
           ],
           "featureidkey": "properties.cartodb_id",
           "geo": "geo",
           "geojson": "https://raw.githubusercontent.com/Tenzinomics/click_that_hood/main/public/data/canada.geojson",
           "hovertemplate": "<b>%{hovertext}</b><br><br>Category=N/A<br>date=2019Q2<br> %=%{customdata[0]}<extra></extra>",
           "hovertext": [
            "Yukon",
            "Nunavut",
            "Northwest Territories"
           ],
           "locationmode": "geojson-id",
           "locations": [
            9,
            12,
            13
           ],
           "name": "N/A",
           "showlegend": true,
           "showscale": false,
           "type": "choropleth",
           "z": [
            1,
            1,
            1
           ]
          },
          {
           "colorscale": [
            [
             0,
             "#B0D1D9"
            ],
            [
             1,
             "#B0D1D9"
            ]
           ],
           "customdata": [
            [
             16.40416429498365,
             7
            ],
            [
             20.682249668080757,
             8
            ]
           ],
           "featureidkey": "properties.cartodb_id",
           "geo": "geo",
           "geojson": "https://raw.githubusercontent.com/Tenzinomics/click_that_hood/main/public/data/canada.geojson",
           "hovertemplate": "<b>%{hovertext}</b><br><br>Category=10 - 20<br>date=2019Q2<br> %=%{customdata[0]}<extra></extra>",
           "hovertext": [
            "New Brunswick",
            "Prince Edward Island"
           ],
           "locationmode": "geojson-id",
           "locations": [
            7,
            8
           ],
           "name": "10 - 20",
           "showlegend": true,
           "showscale": false,
           "type": "choropleth",
           "z": [
            1,
            1
           ]
          },
          {
           "colorscale": [
            [
             0,
             "#8AA6BF"
            ],
            [
             1,
             "#8AA6BF"
            ]
           ],
           "customdata": [
            [
             25.742928666038534,
             4
            ],
            [
             23.129503521922665,
             10
            ],
            [
             22.23960962663022,
             5
            ],
            [
             22.146630819571335,
             2
            ],
            [
             21.138171632138057,
             1
            ],
            [
             21.916250614700385,
             3
            ]
           ],
           "featureidkey": "properties.cartodb_id",
           "geo": "geo",
           "geojson": "https://raw.githubusercontent.com/Tenzinomics/click_that_hood/main/public/data/canada.geojson",
           "hovertemplate": "<b>%{hovertext}</b><br><br>Category=20 - 30<br>date=2019Q2<br> %=%{customdata[0]}<extra></extra>",
           "hovertext": [
            "Alberta",
            "Manitoba",
            "Newfoundland",
            "Nova Scotia",
            "Québec",
            "Saskatchewan"
           ],
           "locationmode": "geojson-id",
           "locations": [
            4,
            10,
            5,
            2,
            1,
            3
           ],
           "name": "20 - 30",
           "showlegend": true,
           "showscale": false,
           "type": "choropleth",
           "z": [
            1,
            1,
            1,
            1,
            1,
            1
           ]
          },
          {
           "colorscale": [
            [
             0,
             "#587AA6"
            ],
            [
             1,
             "#587AA6"
            ]
           ],
           "customdata": [
            [
             37.681417812512095,
             6
            ],
            [
             32.473442393712084,
             11
            ]
           ],
           "featureidkey": "properties.cartodb_id",
           "geo": "geo",
           "geojson": "https://raw.githubusercontent.com/Tenzinomics/click_that_hood/main/public/data/canada.geojson",
           "hovertemplate": "<b>%{hovertext}</b><br><br>Category=30 - 40<br>date=2019Q2<br> %=%{customdata[0]}<extra></extra>",
           "hovertext": [
            "British Columbia",
            "Ontario"
           ],
           "locationmode": "geojson-id",
           "locations": [
            6,
            11
           ],
           "name": "30 - 40",
           "showlegend": true,
           "showscale": false,
           "type": "choropleth",
           "z": [
            1,
            1
           ]
          }
         ],
         "name": "2019Q2"
        },
        {
         "data": [
          {
           "colorscale": [
            [
             0,
             "#F2F2F2"
            ],
            [
             1,
             "#F2F2F2"
            ]
           ],
           "customdata": [
            [
             0,
             9
            ],
            [
             0,
             12
            ],
            [
             0,
             13
            ]
           ],
           "featureidkey": "properties.cartodb_id",
           "geo": "geo",
           "geojson": "https://raw.githubusercontent.com/Tenzinomics/click_that_hood/main/public/data/canada.geojson",
           "hovertemplate": "<b>%{hovertext}</b><br><br>Category=N/A<br>date=2019Q3<br> %=%{customdata[0]}<extra></extra>",
           "hovertext": [
            "Yukon",
            "Nunavut",
            "Northwest Territories"
           ],
           "locationmode": "geojson-id",
           "locations": [
            9,
            12,
            13
           ],
           "name": "N/A",
           "showlegend": true,
           "showscale": false,
           "type": "choropleth",
           "z": [
            1,
            1,
            1
           ]
          },
          {
           "colorscale": [
            [
             0,
             "#B0D1D9"
            ],
            [
             1,
             "#B0D1D9"
            ]
           ],
           "customdata": [
            [
             17.813935345530016,
             7
            ]
           ],
           "featureidkey": "properties.cartodb_id",
           "geo": "geo",
           "geojson": "https://raw.githubusercontent.com/Tenzinomics/click_that_hood/main/public/data/canada.geojson",
           "hovertemplate": "<b>%{hovertext}</b><br><br>Category=10 - 20<br>date=2019Q3<br> %=%{customdata[0]}<extra></extra>",
           "hovertext": [
            "New Brunswick"
           ],
           "locationmode": "geojson-id",
           "locations": [
            7
           ],
           "name": "10 - 20",
           "showlegend": true,
           "showscale": false,
           "type": "choropleth",
           "z": [
            1
           ]
          },
          {
           "colorscale": [
            [
             0,
             "#8AA6BF"
            ],
            [
             1,
             "#8AA6BF"
            ]
           ],
           "customdata": [
            [
             25.58833018945669,
             4
            ],
            [
             23.501389389619046,
             10
            ],
            [
             22.261631781876954,
             5
            ],
            [
             23.233549192655115,
             2
            ],
            [
             21.328368940250897,
             8
            ],
            [
             21.608090926323115,
             1
            ],
            [
             22.71898866852597,
             3
            ]
           ],
           "featureidkey": "properties.cartodb_id",
           "geo": "geo",
           "geojson": "https://raw.githubusercontent.com/Tenzinomics/click_that_hood/main/public/data/canada.geojson",
           "hovertemplate": "<b>%{hovertext}</b><br><br>Category=20 - 30<br>date=2019Q3<br> %=%{customdata[0]}<extra></extra>",
           "hovertext": [
            "Alberta",
            "Manitoba",
            "Newfoundland",
            "Nova Scotia",
            "Prince Edward Island",
            "Québec",
            "Saskatchewan"
           ],
           "locationmode": "geojson-id",
           "locations": [
            4,
            10,
            5,
            2,
            8,
            1,
            3
           ],
           "name": "20 - 30",
           "showlegend": true,
           "showscale": false,
           "type": "choropleth",
           "z": [
            1,
            1,
            1,
            1,
            1,
            1,
            1
           ]
          },
          {
           "colorscale": [
            [
             0,
             "#587AA6"
            ],
            [
             1,
             "#587AA6"
            ]
           ],
           "customdata": [
            [
             38.21308622140194,
             6
            ],
            [
             33.71553602062078,
             11
            ]
           ],
           "featureidkey": "properties.cartodb_id",
           "geo": "geo",
           "geojson": "https://raw.githubusercontent.com/Tenzinomics/click_that_hood/main/public/data/canada.geojson",
           "hovertemplate": "<b>%{hovertext}</b><br><br>Category=30 - 40<br>date=2019Q3<br> %=%{customdata[0]}<extra></extra>",
           "hovertext": [
            "British Columbia",
            "Ontario"
           ],
           "locationmode": "geojson-id",
           "locations": [
            6,
            11
           ],
           "name": "30 - 40",
           "showlegend": true,
           "showscale": false,
           "type": "choropleth",
           "z": [
            1,
            1
           ]
          }
         ],
         "name": "2019Q3"
        },
        {
         "data": [
          {
           "colorscale": [
            [
             0,
             "#F2F2F2"
            ],
            [
             1,
             "#F2F2F2"
            ]
           ],
           "customdata": [
            [
             0,
             9
            ],
            [
             0,
             12
            ],
            [
             0,
             13
            ]
           ],
           "featureidkey": "properties.cartodb_id",
           "geo": "geo",
           "geojson": "https://raw.githubusercontent.com/Tenzinomics/click_that_hood/main/public/data/canada.geojson",
           "hovertemplate": "<b>%{hovertext}</b><br><br>Category=N/A<br>date=2019Q4<br> %=%{customdata[0]}<extra></extra>",
           "hovertext": [
            "Yukon",
            "Nunavut",
            "Northwest Territories"
           ],
           "locationmode": "geojson-id",
           "locations": [
            9,
            12,
            13
           ],
           "name": "N/A",
           "showlegend": true,
           "showscale": false,
           "type": "choropleth",
           "z": [
            1,
            1,
            1
           ]
          },
          {
           "colorscale": [
            [
             0,
             "#B0D1D9"
            ],
            [
             1,
             "#B0D1D9"
            ]
           ],
           "customdata": [
            [
             17.14728636673518,
             7
            ],
            [
             20.772203770147883,
             8
            ]
           ],
           "featureidkey": "properties.cartodb_id",
           "geo": "geo",
           "geojson": "https://raw.githubusercontent.com/Tenzinomics/click_that_hood/main/public/data/canada.geojson",
           "hovertemplate": "<b>%{hovertext}</b><br><br>Category=10 - 20<br>date=2019Q4<br> %=%{customdata[0]}<extra></extra>",
           "hovertext": [
            "New Brunswick",
            "Prince Edward Island"
           ],
           "locationmode": "geojson-id",
           "locations": [
            7,
            8
           ],
           "name": "10 - 20",
           "showlegend": true,
           "showscale": false,
           "type": "choropleth",
           "z": [
            1,
            1
           ]
          },
          {
           "colorscale": [
            [
             0,
             "#8AA6BF"
            ],
            [
             1,
             "#8AA6BF"
            ]
           ],
           "customdata": [
            [
             25.55699152002112,
             4
            ],
            [
             23.084934059546963,
             10
            ],
            [
             22.162492064127918,
             5
            ],
            [
             22.799746625107893,
             2
            ],
            [
             21.16647126157784,
             1
            ],
            [
             22.258312693344113,
             3
            ]
           ],
           "featureidkey": "properties.cartodb_id",
           "geo": "geo",
           "geojson": "https://raw.githubusercontent.com/Tenzinomics/click_that_hood/main/public/data/canada.geojson",
           "hovertemplate": "<b>%{hovertext}</b><br><br>Category=20 - 30<br>date=2019Q4<br> %=%{customdata[0]}<extra></extra>",
           "hovertext": [
            "Alberta",
            "Manitoba",
            "Newfoundland",
            "Nova Scotia",
            "Québec",
            "Saskatchewan"
           ],
           "locationmode": "geojson-id",
           "locations": [
            4,
            10,
            5,
            2,
            1,
            3
           ],
           "name": "20 - 30",
           "showlegend": true,
           "showscale": false,
           "type": "choropleth",
           "z": [
            1,
            1,
            1,
            1,
            1,
            1
           ]
          },
          {
           "colorscale": [
            [
             0,
             "#587AA6"
            ],
            [
             1,
             "#587AA6"
            ]
           ],
           "customdata": [
            [
             39.20324326462159,
             6
            ],
            [
             33.74459728855892,
             11
            ]
           ],
           "featureidkey": "properties.cartodb_id",
           "geo": "geo",
           "geojson": "https://raw.githubusercontent.com/Tenzinomics/click_that_hood/main/public/data/canada.geojson",
           "hovertemplate": "<b>%{hovertext}</b><br><br>Category=30 - 40<br>date=2019Q4<br> %=%{customdata[0]}<extra></extra>",
           "hovertext": [
            "British Columbia",
            "Ontario"
           ],
           "locationmode": "geojson-id",
           "locations": [
            6,
            11
           ],
           "name": "30 - 40",
           "showlegend": true,
           "showscale": false,
           "type": "choropleth",
           "z": [
            1,
            1
           ]
          }
         ],
         "name": "2019Q4"
        },
        {
         "data": [
          {
           "colorscale": [
            [
             0,
             "#F2F2F2"
            ],
            [
             1,
             "#F2F2F2"
            ]
           ],
           "customdata": [
            [
             0,
             9
            ],
            [
             0,
             12
            ],
            [
             0,
             13
            ]
           ],
           "featureidkey": "properties.cartodb_id",
           "geo": "geo",
           "geojson": "https://raw.githubusercontent.com/Tenzinomics/click_that_hood/main/public/data/canada.geojson",
           "hovertemplate": "<b>%{hovertext}</b><br><br>Category=N/A<br>date=2020Q1<br> %=%{customdata[0]}<extra></extra>",
           "hovertext": [
            "Yukon",
            "Nunavut",
            "Northwest Territories"
           ],
           "locationmode": "geojson-id",
           "locations": [
            9,
            12,
            13
           ],
           "name": "N/A",
           "showlegend": true,
           "showscale": false,
           "type": "choropleth",
           "z": [
            1,
            1,
            1
           ]
          },
          {
           "colorscale": [
            [
             0,
             "#B0D1D9"
            ],
            [
             1,
             "#B0D1D9"
            ]
           ],
           "customdata": [
            [
             16.362181948948436,
             7
            ],
            [
             19.93443669801175,
             5
            ],
            [
             20.779101641654936,
             2
            ],
            [
             20.667026831194725,
             8
            ],
            [
             20.13381405660948,
             1
            ],
            [
             20.26578005785481,
             3
            ]
           ],
           "featureidkey": "properties.cartodb_id",
           "geo": "geo",
           "geojson": "https://raw.githubusercontent.com/Tenzinomics/click_that_hood/main/public/data/canada.geojson",
           "hovertemplate": "<b>%{hovertext}</b><br><br>Category=10 - 20<br>date=2020Q1<br> %=%{customdata[0]}<extra></extra>",
           "hovertext": [
            "New Brunswick",
            "Newfoundland",
            "Nova Scotia",
            "Prince Edward Island",
            "Québec",
            "Saskatchewan"
           ],
           "locationmode": "geojson-id",
           "locations": [
            7,
            5,
            2,
            8,
            1,
            3
           ],
           "name": "10 - 20",
           "showlegend": true,
           "showscale": false,
           "type": "choropleth",
           "z": [
            1,
            1,
            1,
            1,
            1,
            1
           ]
          },
          {
           "colorscale": [
            [
             0,
             "#8AA6BF"
            ],
            [
             1,
             "#8AA6BF"
            ]
           ],
           "customdata": [
            [
             23.829733597381917,
             4
            ],
            [
             21.406967238669772,
             10
            ]
           ],
           "featureidkey": "properties.cartodb_id",
           "geo": "geo",
           "geojson": "https://raw.githubusercontent.com/Tenzinomics/click_that_hood/main/public/data/canada.geojson",
           "hovertemplate": "<b>%{hovertext}</b><br><br>Category=20 - 30<br>date=2020Q1<br> %=%{customdata[0]}<extra></extra>",
           "hovertext": [
            "Alberta",
            "Manitoba"
           ],
           "locationmode": "geojson-id",
           "locations": [
            4,
            10
           ],
           "name": "20 - 30",
           "showlegend": true,
           "showscale": false,
           "type": "choropleth",
           "z": [
            1,
            1
           ]
          },
          {
           "colorscale": [
            [
             0,
             "#587AA6"
            ],
            [
             1,
             "#587AA6"
            ]
           ],
           "customdata": [
            [
             37.01903308117416,
             6
            ],
            [
             31.5284228451876,
             11
            ]
           ],
           "featureidkey": "properties.cartodb_id",
           "geo": "geo",
           "geojson": "https://raw.githubusercontent.com/Tenzinomics/click_that_hood/main/public/data/canada.geojson",
           "hovertemplate": "<b>%{hovertext}</b><br><br>Category=30 - 40<br>date=2020Q1<br> %=%{customdata[0]}<extra></extra>",
           "hovertext": [
            "British Columbia",
            "Ontario"
           ],
           "locationmode": "geojson-id",
           "locations": [
            6,
            11
           ],
           "name": "30 - 40",
           "showlegend": true,
           "showscale": false,
           "type": "choropleth",
           "z": [
            1,
            1
           ]
          }
         ],
         "name": "2020Q1"
        },
        {
         "data": [
          {
           "colorscale": [
            [
             0,
             "#F2F2F2"
            ],
            [
             1,
             "#F2F2F2"
            ]
           ],
           "customdata": [
            [
             0,
             9
            ],
            [
             0,
             12
            ],
            [
             0,
             13
            ]
           ],
           "featureidkey": "properties.cartodb_id",
           "geo": "geo",
           "geojson": "https://raw.githubusercontent.com/Tenzinomics/click_that_hood/main/public/data/canada.geojson",
           "hovertemplate": "<b>%{hovertext}</b><br><br>Category=N/A<br>date=2020Q2<br> %=%{customdata[0]}<extra></extra>",
           "hovertext": [
            "Yukon",
            "Nunavut",
            "Northwest Territories"
           ],
           "locationmode": "geojson-id",
           "locations": [
            9,
            12,
            13
           ],
           "name": "N/A",
           "showlegend": true,
           "showscale": false,
           "type": "choropleth",
           "z": [
            1,
            1,
            1
           ]
          },
          {
           "colorscale": [
            [
             0,
             "#B0D1D9"
            ],
            [
             1,
             "#B0D1D9"
            ]
           ],
           "customdata": [
            [
             16.407029467551087,
             7
            ],
            [
             19.727272259180456,
             5
            ],
            [
             20.847279513070493,
             2
            ],
            [
             19.891389698561696,
             8
            ],
            [
             20.44264783705746,
             1
            ],
            [
             20.805353150537993,
             3
            ]
           ],
           "featureidkey": "properties.cartodb_id",
           "geo": "geo",
           "geojson": "https://raw.githubusercontent.com/Tenzinomics/click_that_hood/main/public/data/canada.geojson",
           "hovertemplate": "<b>%{hovertext}</b><br><br>Category=10 - 20<br>date=2020Q2<br> %=%{customdata[0]}<extra></extra>",
           "hovertext": [
            "New Brunswick",
            "Newfoundland",
            "Nova Scotia",
            "Prince Edward Island",
            "Québec",
            "Saskatchewan"
           ],
           "locationmode": "geojson-id",
           "locations": [
            7,
            5,
            2,
            8,
            1,
            3
           ],
           "name": "10 - 20",
           "showlegend": true,
           "showscale": false,
           "type": "choropleth",
           "z": [
            1,
            1,
            1,
            1,
            1,
            1
           ]
          },
          {
           "colorscale": [
            [
             0,
             "#8AA6BF"
            ],
            [
             1,
             "#8AA6BF"
            ]
           ],
           "customdata": [
            [
             23.80060576354345,
             4
            ],
            [
             21.539283941550153,
             10
            ]
           ],
           "featureidkey": "properties.cartodb_id",
           "geo": "geo",
           "geojson": "https://raw.githubusercontent.com/Tenzinomics/click_that_hood/main/public/data/canada.geojson",
           "hovertemplate": "<b>%{hovertext}</b><br><br>Category=20 - 30<br>date=2020Q2<br> %=%{customdata[0]}<extra></extra>",
           "hovertext": [
            "Alberta",
            "Manitoba"
           ],
           "locationmode": "geojson-id",
           "locations": [
            4,
            10
           ],
           "name": "20 - 30",
           "showlegend": true,
           "showscale": false,
           "type": "choropleth",
           "z": [
            1,
            1
           ]
          },
          {
           "colorscale": [
            [
             0,
             "#587AA6"
            ],
            [
             1,
             "#587AA6"
            ]
           ],
           "customdata": [
            [
             36.78833136344383,
             6
            ],
            [
             32.35739164918213,
             11
            ]
           ],
           "featureidkey": "properties.cartodb_id",
           "geo": "geo",
           "geojson": "https://raw.githubusercontent.com/Tenzinomics/click_that_hood/main/public/data/canada.geojson",
           "hovertemplate": "<b>%{hovertext}</b><br><br>Category=30 - 40<br>date=2020Q2<br> %=%{customdata[0]}<extra></extra>",
           "hovertext": [
            "British Columbia",
            "Ontario"
           ],
           "locationmode": "geojson-id",
           "locations": [
            6,
            11
           ],
           "name": "30 - 40",
           "showlegend": true,
           "showscale": false,
           "type": "choropleth",
           "z": [
            1,
            1
           ]
          }
         ],
         "name": "2020Q2"
        },
        {
         "data": [
          {
           "colorscale": [
            [
             0,
             "#F2F2F2"
            ],
            [
             1,
             "#F2F2F2"
            ]
           ],
           "customdata": [
            [
             0,
             9
            ],
            [
             0,
             12
            ],
            [
             0,
             13
            ]
           ],
           "featureidkey": "properties.cartodb_id",
           "geo": "geo",
           "geojson": "https://raw.githubusercontent.com/Tenzinomics/click_that_hood/main/public/data/canada.geojson",
           "hovertemplate": "<b>%{hovertext}</b><br><br>Category=N/A<br>date=2020Q3<br> %=%{customdata[0]}<extra></extra>",
           "hovertext": [
            "Yukon",
            "Nunavut",
            "Northwest Territories"
           ],
           "locationmode": "geojson-id",
           "locations": [
            9,
            12,
            13
           ],
           "name": "N/A",
           "showlegend": true,
           "showscale": false,
           "type": "choropleth",
           "z": [
            1,
            1,
            1
           ]
          },
          {
           "colorscale": [
            [
             0,
             "#B0D1D9"
            ],
            [
             1,
             "#B0D1D9"
            ]
           ],
           "customdata": [
            [
             17.065332065196106,
             7
            ],
            [
             20.026738606439803,
             5
            ],
            [
             20.83948922384134,
             8
            ],
            [
             20.678674799672777,
             1
            ]
           ],
           "featureidkey": "properties.cartodb_id",
           "geo": "geo",
           "geojson": "https://raw.githubusercontent.com/Tenzinomics/click_that_hood/main/public/data/canada.geojson",
           "hovertemplate": "<b>%{hovertext}</b><br><br>Category=10 - 20<br>date=2020Q3<br> %=%{customdata[0]}<extra></extra>",
           "hovertext": [
            "New Brunswick",
            "Newfoundland",
            "Prince Edward Island",
            "Québec"
           ],
           "locationmode": "geojson-id",
           "locations": [
            7,
            5,
            8,
            1
           ],
           "name": "10 - 20",
           "showlegend": true,
           "showscale": false,
           "type": "choropleth",
           "z": [
            1,
            1,
            1,
            1
           ]
          },
          {
           "colorscale": [
            [
             0,
             "#8AA6BF"
            ],
            [
             1,
             "#8AA6BF"
            ]
           ],
           "customdata": [
            [
             23.818343775307444,
             4
            ],
            [
             22.369858834431312,
             10
            ],
            [
             21.89301715748478,
             2
            ],
            [
             21.238872414545483,
             3
            ]
           ],
           "featureidkey": "properties.cartodb_id",
           "geo": "geo",
           "geojson": "https://raw.githubusercontent.com/Tenzinomics/click_that_hood/main/public/data/canada.geojson",
           "hovertemplate": "<b>%{hovertext}</b><br><br>Category=20 - 30<br>date=2020Q3<br> %=%{customdata[0]}<extra></extra>",
           "hovertext": [
            "Alberta",
            "Manitoba",
            "Nova Scotia",
            "Saskatchewan"
           ],
           "locationmode": "geojson-id",
           "locations": [
            4,
            10,
            2,
            3
           ],
           "name": "20 - 30",
           "showlegend": true,
           "showscale": false,
           "type": "choropleth",
           "z": [
            1,
            1,
            1,
            1
           ]
          },
          {
           "colorscale": [
            [
             0,
             "#587AA6"
            ],
            [
             1,
             "#587AA6"
            ]
           ],
           "customdata": [
            [
             37.41018980666422,
             6
            ],
            [
             32.254930736610845,
             11
            ]
           ],
           "featureidkey": "properties.cartodb_id",
           "geo": "geo",
           "geojson": "https://raw.githubusercontent.com/Tenzinomics/click_that_hood/main/public/data/canada.geojson",
           "hovertemplate": "<b>%{hovertext}</b><br><br>Category=30 - 40<br>date=2020Q3<br> %=%{customdata[0]}<extra></extra>",
           "hovertext": [
            "British Columbia",
            "Ontario"
           ],
           "locationmode": "geojson-id",
           "locations": [
            6,
            11
           ],
           "name": "30 - 40",
           "showlegend": true,
           "showscale": false,
           "type": "choropleth",
           "z": [
            1,
            1
           ]
          }
         ],
         "name": "2020Q3"
        },
        {
         "data": [
          {
           "colorscale": [
            [
             0,
             "#F2F2F2"
            ],
            [
             1,
             "#F2F2F2"
            ]
           ],
           "customdata": [
            [
             0,
             9
            ],
            [
             0,
             12
            ],
            [
             0,
             13
            ]
           ],
           "featureidkey": "properties.cartodb_id",
           "geo": "geo",
           "geojson": "https://raw.githubusercontent.com/Tenzinomics/click_that_hood/main/public/data/canada.geojson",
           "hovertemplate": "<b>%{hovertext}</b><br><br>Category=N/A<br>date=2020Q4<br> %=%{customdata[0]}<extra></extra>",
           "hovertext": [
            "Yukon",
            "Nunavut",
            "Northwest Territories"
           ],
           "locationmode": "geojson-id",
           "locations": [
            9,
            12,
            13
           ],
           "name": "N/A",
           "showlegend": true,
           "showscale": false,
           "type": "choropleth",
           "z": [
            1,
            1,
            1
           ]
          },
          {
           "colorscale": [
            [
             0,
             "#B0D1D9"
            ],
            [
             1,
             "#B0D1D9"
            ]
           ],
           "customdata": [
            [
             16.94750480228939,
             7
            ],
            [
             20.24361610094778,
             5
            ],
            [
             20.514301923107222,
             1
            ]
           ],
           "featureidkey": "properties.cartodb_id",
           "geo": "geo",
           "geojson": "https://raw.githubusercontent.com/Tenzinomics/click_that_hood/main/public/data/canada.geojson",
           "hovertemplate": "<b>%{hovertext}</b><br><br>Category=10 - 20<br>date=2020Q4<br> %=%{customdata[0]}<extra></extra>",
           "hovertext": [
            "New Brunswick",
            "Newfoundland",
            "Québec"
           ],
           "locationmode": "geojson-id",
           "locations": [
            7,
            5,
            1
           ],
           "name": "10 - 20",
           "showlegend": true,
           "showscale": false,
           "type": "choropleth",
           "z": [
            1,
            1,
            1
           ]
          },
          {
           "colorscale": [
            [
             0,
             "#8AA6BF"
            ],
            [
             1,
             "#8AA6BF"
            ]
           ],
           "customdata": [
            [
             23.61614315969,
             4
            ],
            [
             22.28226528899288,
             10
            ],
            [
             21.877959243925215,
             2
            ],
            [
             21.735905990476482,
             8
            ],
            [
             21.122549957367905,
             3
            ]
           ],
           "featureidkey": "properties.cartodb_id",
           "geo": "geo",
           "geojson": "https://raw.githubusercontent.com/Tenzinomics/click_that_hood/main/public/data/canada.geojson",
           "hovertemplate": "<b>%{hovertext}</b><br><br>Category=20 - 30<br>date=2020Q4<br> %=%{customdata[0]}<extra></extra>",
           "hovertext": [
            "Alberta",
            "Manitoba",
            "Nova Scotia",
            "Prince Edward Island",
            "Saskatchewan"
           ],
           "locationmode": "geojson-id",
           "locations": [
            4,
            10,
            2,
            8,
            3
           ],
           "name": "20 - 30",
           "showlegend": true,
           "showscale": false,
           "type": "choropleth",
           "z": [
            1,
            1,
            1,
            1,
            1
           ]
          },
          {
           "colorscale": [
            [
             0,
             "#587AA6"
            ],
            [
             1,
             "#587AA6"
            ]
           ],
           "customdata": [
            [
             38.789446086740654,
             6
            ],
            [
             33.5798583473612,
             11
            ]
           ],
           "featureidkey": "properties.cartodb_id",
           "geo": "geo",
           "geojson": "https://raw.githubusercontent.com/Tenzinomics/click_that_hood/main/public/data/canada.geojson",
           "hovertemplate": "<b>%{hovertext}</b><br><br>Category=30 - 40<br>date=2020Q4<br> %=%{customdata[0]}<extra></extra>",
           "hovertext": [
            "British Columbia",
            "Ontario"
           ],
           "locationmode": "geojson-id",
           "locations": [
            6,
            11
           ],
           "name": "30 - 40",
           "showlegend": true,
           "showscale": false,
           "type": "choropleth",
           "z": [
            1,
            1
           ]
          }
         ],
         "name": "2020Q4"
        }
       ],
       "layout": {
        "font": {
         "color": "#808080",
         "family": "calibri",
         "size": 18
        },
        "geo": {
         "bgcolor": "rgba(0,0,0,0)",
         "center": {},
         "domain": {
          "x": [
           0,
           1
          ],
          "y": [
           0,
           1
          ]
         },
         "fitbounds": "locations",
         "lakecolor": "#fffcfc",
         "scope": "north america",
         "showcoastlines": false,
         "showcountries": false,
         "showland": false,
         "subunitcolor": "white"
        },
        "legend": {
         "orientation": "v",
         "title": {
          "text": "<b>In %</b>"
         },
         "tracegroupgap": 0
        },
        "margin": {
         "b": 0,
         "l": 0,
         "r": 400,
         "t": 60
        },
        "showlegend": true,
        "sliders": [
         {
          "active": 0,
          "currentvalue": {
           "prefix": "date="
          },
          "len": 0.9,
          "pad": {
           "b": 10,
           "t": 60
          },
          "steps": [
           {
            "args": [
             [
              "2012Q3"
             ],
             {
              "frame": {
               "duration": 0,
               "redraw": true
              },
              "fromcurrent": true,
              "mode": "immediate",
              "transition": {
               "duration": 0,
               "easing": "linear"
              }
             }
            ],
            "label": "2012Q3",
            "method": "animate"
           },
           {
            "args": [
             [
              "2012Q4"
             ],
             {
              "frame": {
               "duration": 0,
               "redraw": true
              },
              "fromcurrent": true,
              "mode": "immediate",
              "transition": {
               "duration": 0,
               "easing": "linear"
              }
             }
            ],
            "label": "2012Q4",
            "method": "animate"
           },
           {
            "args": [
             [
              "2013Q1"
             ],
             {
              "frame": {
               "duration": 0,
               "redraw": true
              },
              "fromcurrent": true,
              "mode": "immediate",
              "transition": {
               "duration": 0,
               "easing": "linear"
              }
             }
            ],
            "label": "2013Q1",
            "method": "animate"
           },
           {
            "args": [
             [
              "2013Q2"
             ],
             {
              "frame": {
               "duration": 0,
               "redraw": true
              },
              "fromcurrent": true,
              "mode": "immediate",
              "transition": {
               "duration": 0,
               "easing": "linear"
              }
             }
            ],
            "label": "2013Q2",
            "method": "animate"
           },
           {
            "args": [
             [
              "2013Q3"
             ],
             {
              "frame": {
               "duration": 0,
               "redraw": true
              },
              "fromcurrent": true,
              "mode": "immediate",
              "transition": {
               "duration": 0,
               "easing": "linear"
              }
             }
            ],
            "label": "2013Q3",
            "method": "animate"
           },
           {
            "args": [
             [
              "2013Q4"
             ],
             {
              "frame": {
               "duration": 0,
               "redraw": true
              },
              "fromcurrent": true,
              "mode": "immediate",
              "transition": {
               "duration": 0,
               "easing": "linear"
              }
             }
            ],
            "label": "2013Q4",
            "method": "animate"
           },
           {
            "args": [
             [
              "2014Q1"
             ],
             {
              "frame": {
               "duration": 0,
               "redraw": true
              },
              "fromcurrent": true,
              "mode": "immediate",
              "transition": {
               "duration": 0,
               "easing": "linear"
              }
             }
            ],
            "label": "2014Q1",
            "method": "animate"
           },
           {
            "args": [
             [
              "2014Q2"
             ],
             {
              "frame": {
               "duration": 0,
               "redraw": true
              },
              "fromcurrent": true,
              "mode": "immediate",
              "transition": {
               "duration": 0,
               "easing": "linear"
              }
             }
            ],
            "label": "2014Q2",
            "method": "animate"
           },
           {
            "args": [
             [
              "2014Q3"
             ],
             {
              "frame": {
               "duration": 0,
               "redraw": true
              },
              "fromcurrent": true,
              "mode": "immediate",
              "transition": {
               "duration": 0,
               "easing": "linear"
              }
             }
            ],
            "label": "2014Q3",
            "method": "animate"
           },
           {
            "args": [
             [
              "2014Q4"
             ],
             {
              "frame": {
               "duration": 0,
               "redraw": true
              },
              "fromcurrent": true,
              "mode": "immediate",
              "transition": {
               "duration": 0,
               "easing": "linear"
              }
             }
            ],
            "label": "2014Q4",
            "method": "animate"
           },
           {
            "args": [
             [
              "2015Q1"
             ],
             {
              "frame": {
               "duration": 0,
               "redraw": true
              },
              "fromcurrent": true,
              "mode": "immediate",
              "transition": {
               "duration": 0,
               "easing": "linear"
              }
             }
            ],
            "label": "2015Q1",
            "method": "animate"
           },
           {
            "args": [
             [
              "2015Q2"
             ],
             {
              "frame": {
               "duration": 0,
               "redraw": true
              },
              "fromcurrent": true,
              "mode": "immediate",
              "transition": {
               "duration": 0,
               "easing": "linear"
              }
             }
            ],
            "label": "2015Q2",
            "method": "animate"
           },
           {
            "args": [
             [
              "2015Q3"
             ],
             {
              "frame": {
               "duration": 0,
               "redraw": true
              },
              "fromcurrent": true,
              "mode": "immediate",
              "transition": {
               "duration": 0,
               "easing": "linear"
              }
             }
            ],
            "label": "2015Q3",
            "method": "animate"
           },
           {
            "args": [
             [
              "2015Q4"
             ],
             {
              "frame": {
               "duration": 0,
               "redraw": true
              },
              "fromcurrent": true,
              "mode": "immediate",
              "transition": {
               "duration": 0,
               "easing": "linear"
              }
             }
            ],
            "label": "2015Q4",
            "method": "animate"
           },
           {
            "args": [
             [
              "2016Q1"
             ],
             {
              "frame": {
               "duration": 0,
               "redraw": true
              },
              "fromcurrent": true,
              "mode": "immediate",
              "transition": {
               "duration": 0,
               "easing": "linear"
              }
             }
            ],
            "label": "2016Q1",
            "method": "animate"
           },
           {
            "args": [
             [
              "2016Q2"
             ],
             {
              "frame": {
               "duration": 0,
               "redraw": true
              },
              "fromcurrent": true,
              "mode": "immediate",
              "transition": {
               "duration": 0,
               "easing": "linear"
              }
             }
            ],
            "label": "2016Q2",
            "method": "animate"
           },
           {
            "args": [
             [
              "2016Q3"
             ],
             {
              "frame": {
               "duration": 0,
               "redraw": true
              },
              "fromcurrent": true,
              "mode": "immediate",
              "transition": {
               "duration": 0,
               "easing": "linear"
              }
             }
            ],
            "label": "2016Q3",
            "method": "animate"
           },
           {
            "args": [
             [
              "2016Q4"
             ],
             {
              "frame": {
               "duration": 0,
               "redraw": true
              },
              "fromcurrent": true,
              "mode": "immediate",
              "transition": {
               "duration": 0,
               "easing": "linear"
              }
             }
            ],
            "label": "2016Q4",
            "method": "animate"
           },
           {
            "args": [
             [
              "2017Q1"
             ],
             {
              "frame": {
               "duration": 0,
               "redraw": true
              },
              "fromcurrent": true,
              "mode": "immediate",
              "transition": {
               "duration": 0,
               "easing": "linear"
              }
             }
            ],
            "label": "2017Q1",
            "method": "animate"
           },
           {
            "args": [
             [
              "2017Q2"
             ],
             {
              "frame": {
               "duration": 0,
               "redraw": true
              },
              "fromcurrent": true,
              "mode": "immediate",
              "transition": {
               "duration": 0,
               "easing": "linear"
              }
             }
            ],
            "label": "2017Q2",
            "method": "animate"
           },
           {
            "args": [
             [
              "2017Q3"
             ],
             {
              "frame": {
               "duration": 0,
               "redraw": true
              },
              "fromcurrent": true,
              "mode": "immediate",
              "transition": {
               "duration": 0,
               "easing": "linear"
              }
             }
            ],
            "label": "2017Q3",
            "method": "animate"
           },
           {
            "args": [
             [
              "2017Q4"
             ],
             {
              "frame": {
               "duration": 0,
               "redraw": true
              },
              "fromcurrent": true,
              "mode": "immediate",
              "transition": {
               "duration": 0,
               "easing": "linear"
              }
             }
            ],
            "label": "2017Q4",
            "method": "animate"
           },
           {
            "args": [
             [
              "2018Q1"
             ],
             {
              "frame": {
               "duration": 0,
               "redraw": true
              },
              "fromcurrent": true,
              "mode": "immediate",
              "transition": {
               "duration": 0,
               "easing": "linear"
              }
             }
            ],
            "label": "2018Q1",
            "method": "animate"
           },
           {
            "args": [
             [
              "2018Q2"
             ],
             {
              "frame": {
               "duration": 0,
               "redraw": true
              },
              "fromcurrent": true,
              "mode": "immediate",
              "transition": {
               "duration": 0,
               "easing": "linear"
              }
             }
            ],
            "label": "2018Q2",
            "method": "animate"
           },
           {
            "args": [
             [
              "2018Q3"
             ],
             {
              "frame": {
               "duration": 0,
               "redraw": true
              },
              "fromcurrent": true,
              "mode": "immediate",
              "transition": {
               "duration": 0,
               "easing": "linear"
              }
             }
            ],
            "label": "2018Q3",
            "method": "animate"
           },
           {
            "args": [
             [
              "2018Q4"
             ],
             {
              "frame": {
               "duration": 0,
               "redraw": true
              },
              "fromcurrent": true,
              "mode": "immediate",
              "transition": {
               "duration": 0,
               "easing": "linear"
              }
             }
            ],
            "label": "2018Q4",
            "method": "animate"
           },
           {
            "args": [
             [
              "2019Q1"
             ],
             {
              "frame": {
               "duration": 0,
               "redraw": true
              },
              "fromcurrent": true,
              "mode": "immediate",
              "transition": {
               "duration": 0,
               "easing": "linear"
              }
             }
            ],
            "label": "2019Q1",
            "method": "animate"
           },
           {
            "args": [
             [
              "2019Q2"
             ],
             {
              "frame": {
               "duration": 0,
               "redraw": true
              },
              "fromcurrent": true,
              "mode": "immediate",
              "transition": {
               "duration": 0,
               "easing": "linear"
              }
             }
            ],
            "label": "2019Q2",
            "method": "animate"
           },
           {
            "args": [
             [
              "2019Q3"
             ],
             {
              "frame": {
               "duration": 0,
               "redraw": true
              },
              "fromcurrent": true,
              "mode": "immediate",
              "transition": {
               "duration": 0,
               "easing": "linear"
              }
             }
            ],
            "label": "2019Q3",
            "method": "animate"
           },
           {
            "args": [
             [
              "2019Q4"
             ],
             {
              "frame": {
               "duration": 0,
               "redraw": true
              },
              "fromcurrent": true,
              "mode": "immediate",
              "transition": {
               "duration": 0,
               "easing": "linear"
              }
             }
            ],
            "label": "2019Q4",
            "method": "animate"
           },
           {
            "args": [
             [
              "2020Q1"
             ],
             {
              "frame": {
               "duration": 0,
               "redraw": true
              },
              "fromcurrent": true,
              "mode": "immediate",
              "transition": {
               "duration": 0,
               "easing": "linear"
              }
             }
            ],
            "label": "2020Q1",
            "method": "animate"
           },
           {
            "args": [
             [
              "2020Q2"
             ],
             {
              "frame": {
               "duration": 0,
               "redraw": true
              },
              "fromcurrent": true,
              "mode": "immediate",
              "transition": {
               "duration": 0,
               "easing": "linear"
              }
             }
            ],
            "label": "2020Q2",
            "method": "animate"
           },
           {
            "args": [
             [
              "2020Q3"
             ],
             {
              "frame": {
               "duration": 0,
               "redraw": true
              },
              "fromcurrent": true,
              "mode": "immediate",
              "transition": {
               "duration": 0,
               "easing": "linear"
              }
             }
            ],
            "label": "2020Q3",
            "method": "animate"
           },
           {
            "args": [
             [
              "2020Q4"
             ],
             {
              "frame": {
               "duration": 0,
               "redraw": true
              },
              "fromcurrent": true,
              "mode": "immediate",
              "transition": {
               "duration": 0,
               "easing": "linear"
              }
             }
            ],
            "label": "2020Q4",
            "method": "animate"
           }
          ],
          "x": 0.1,
          "xanchor": "left",
          "y": 0,
          "yanchor": "top"
         }
        ],
        "template": {
         "data": {
          "bar": [
           {
            "error_x": {
             "color": "#2a3f5f"
            },
            "error_y": {
             "color": "#2a3f5f"
            },
            "marker": {
             "line": {
              "color": "#E5ECF6",
              "width": 0.5
             },
             "pattern": {
              "fillmode": "overlay",
              "size": 10,
              "solidity": 0.2
             }
            },
            "type": "bar"
           }
          ],
          "barpolar": [
           {
            "marker": {
             "line": {
              "color": "#E5ECF6",
              "width": 0.5
             },
             "pattern": {
              "fillmode": "overlay",
              "size": 10,
              "solidity": 0.2
             }
            },
            "type": "barpolar"
           }
          ],
          "carpet": [
           {
            "aaxis": {
             "endlinecolor": "#2a3f5f",
             "gridcolor": "white",
             "linecolor": "white",
             "minorgridcolor": "white",
             "startlinecolor": "#2a3f5f"
            },
            "baxis": {
             "endlinecolor": "#2a3f5f",
             "gridcolor": "white",
             "linecolor": "white",
             "minorgridcolor": "white",
             "startlinecolor": "#2a3f5f"
            },
            "type": "carpet"
           }
          ],
          "choropleth": [
           {
            "colorbar": {
             "outlinewidth": 0,
             "ticks": ""
            },
            "type": "choropleth"
           }
          ],
          "contour": [
           {
            "colorbar": {
             "outlinewidth": 0,
             "ticks": ""
            },
            "colorscale": [
             [
              0,
              "#0d0887"
             ],
             [
              0.1111111111111111,
              "#46039f"
             ],
             [
              0.2222222222222222,
              "#7201a8"
             ],
             [
              0.3333333333333333,
              "#9c179e"
             ],
             [
              0.4444444444444444,
              "#bd3786"
             ],
             [
              0.5555555555555556,
              "#d8576b"
             ],
             [
              0.6666666666666666,
              "#ed7953"
             ],
             [
              0.7777777777777778,
              "#fb9f3a"
             ],
             [
              0.8888888888888888,
              "#fdca26"
             ],
             [
              1,
              "#f0f921"
             ]
            ],
            "type": "contour"
           }
          ],
          "contourcarpet": [
           {
            "colorbar": {
             "outlinewidth": 0,
             "ticks": ""
            },
            "type": "contourcarpet"
           }
          ],
          "heatmap": [
           {
            "colorbar": {
             "outlinewidth": 0,
             "ticks": ""
            },
            "colorscale": [
             [
              0,
              "#0d0887"
             ],
             [
              0.1111111111111111,
              "#46039f"
             ],
             [
              0.2222222222222222,
              "#7201a8"
             ],
             [
              0.3333333333333333,
              "#9c179e"
             ],
             [
              0.4444444444444444,
              "#bd3786"
             ],
             [
              0.5555555555555556,
              "#d8576b"
             ],
             [
              0.6666666666666666,
              "#ed7953"
             ],
             [
              0.7777777777777778,
              "#fb9f3a"
             ],
             [
              0.8888888888888888,
              "#fdca26"
             ],
             [
              1,
              "#f0f921"
             ]
            ],
            "type": "heatmap"
           }
          ],
          "heatmapgl": [
           {
            "colorbar": {
             "outlinewidth": 0,
             "ticks": ""
            },
            "colorscale": [
             [
              0,
              "#0d0887"
             ],
             [
              0.1111111111111111,
              "#46039f"
             ],
             [
              0.2222222222222222,
              "#7201a8"
             ],
             [
              0.3333333333333333,
              "#9c179e"
             ],
             [
              0.4444444444444444,
              "#bd3786"
             ],
             [
              0.5555555555555556,
              "#d8576b"
             ],
             [
              0.6666666666666666,
              "#ed7953"
             ],
             [
              0.7777777777777778,
              "#fb9f3a"
             ],
             [
              0.8888888888888888,
              "#fdca26"
             ],
             [
              1,
              "#f0f921"
             ]
            ],
            "type": "heatmapgl"
           }
          ],
          "histogram": [
           {
            "marker": {
             "pattern": {
              "fillmode": "overlay",
              "size": 10,
              "solidity": 0.2
             }
            },
            "type": "histogram"
           }
          ],
          "histogram2d": [
           {
            "colorbar": {
             "outlinewidth": 0,
             "ticks": ""
            },
            "colorscale": [
             [
              0,
              "#0d0887"
             ],
             [
              0.1111111111111111,
              "#46039f"
             ],
             [
              0.2222222222222222,
              "#7201a8"
             ],
             [
              0.3333333333333333,
              "#9c179e"
             ],
             [
              0.4444444444444444,
              "#bd3786"
             ],
             [
              0.5555555555555556,
              "#d8576b"
             ],
             [
              0.6666666666666666,
              "#ed7953"
             ],
             [
              0.7777777777777778,
              "#fb9f3a"
             ],
             [
              0.8888888888888888,
              "#fdca26"
             ],
             [
              1,
              "#f0f921"
             ]
            ],
            "type": "histogram2d"
           }
          ],
          "histogram2dcontour": [
           {
            "colorbar": {
             "outlinewidth": 0,
             "ticks": ""
            },
            "colorscale": [
             [
              0,
              "#0d0887"
             ],
             [
              0.1111111111111111,
              "#46039f"
             ],
             [
              0.2222222222222222,
              "#7201a8"
             ],
             [
              0.3333333333333333,
              "#9c179e"
             ],
             [
              0.4444444444444444,
              "#bd3786"
             ],
             [
              0.5555555555555556,
              "#d8576b"
             ],
             [
              0.6666666666666666,
              "#ed7953"
             ],
             [
              0.7777777777777778,
              "#fb9f3a"
             ],
             [
              0.8888888888888888,
              "#fdca26"
             ],
             [
              1,
              "#f0f921"
             ]
            ],
            "type": "histogram2dcontour"
           }
          ],
          "mesh3d": [
           {
            "colorbar": {
             "outlinewidth": 0,
             "ticks": ""
            },
            "type": "mesh3d"
           }
          ],
          "parcoords": [
           {
            "line": {
             "colorbar": {
              "outlinewidth": 0,
              "ticks": ""
             }
            },
            "type": "parcoords"
           }
          ],
          "pie": [
           {
            "automargin": true,
            "type": "pie"
           }
          ],
          "scatter": [
           {
            "fillpattern": {
             "fillmode": "overlay",
             "size": 10,
             "solidity": 0.2
            },
            "type": "scatter"
           }
          ],
          "scatter3d": [
           {
            "line": {
             "colorbar": {
              "outlinewidth": 0,
              "ticks": ""
             }
            },
            "marker": {
             "colorbar": {
              "outlinewidth": 0,
              "ticks": ""
             }
            },
            "type": "scatter3d"
           }
          ],
          "scattercarpet": [
           {
            "marker": {
             "colorbar": {
              "outlinewidth": 0,
              "ticks": ""
             }
            },
            "type": "scattercarpet"
           }
          ],
          "scattergeo": [
           {
            "marker": {
             "colorbar": {
              "outlinewidth": 0,
              "ticks": ""
             }
            },
            "type": "scattergeo"
           }
          ],
          "scattergl": [
           {
            "marker": {
             "colorbar": {
              "outlinewidth": 0,
              "ticks": ""
             }
            },
            "type": "scattergl"
           }
          ],
          "scattermapbox": [
           {
            "marker": {
             "colorbar": {
              "outlinewidth": 0,
              "ticks": ""
             }
            },
            "type": "scattermapbox"
           }
          ],
          "scatterpolar": [
           {
            "marker": {
             "colorbar": {
              "outlinewidth": 0,
              "ticks": ""
             }
            },
            "type": "scatterpolar"
           }
          ],
          "scatterpolargl": [
           {
            "marker": {
             "colorbar": {
              "outlinewidth": 0,
              "ticks": ""
             }
            },
            "type": "scatterpolargl"
           }
          ],
          "scatterternary": [
           {
            "marker": {
             "colorbar": {
              "outlinewidth": 0,
              "ticks": ""
             }
            },
            "type": "scatterternary"
           }
          ],
          "surface": [
           {
            "colorbar": {
             "outlinewidth": 0,
             "ticks": ""
            },
            "colorscale": [
             [
              0,
              "#0d0887"
             ],
             [
              0.1111111111111111,
              "#46039f"
             ],
             [
              0.2222222222222222,
              "#7201a8"
             ],
             [
              0.3333333333333333,
              "#9c179e"
             ],
             [
              0.4444444444444444,
              "#bd3786"
             ],
             [
              0.5555555555555556,
              "#d8576b"
             ],
             [
              0.6666666666666666,
              "#ed7953"
             ],
             [
              0.7777777777777778,
              "#fb9f3a"
             ],
             [
              0.8888888888888888,
              "#fdca26"
             ],
             [
              1,
              "#f0f921"
             ]
            ],
            "type": "surface"
           }
          ],
          "table": [
           {
            "cells": {
             "fill": {
              "color": "#EBF0F8"
             },
             "line": {
              "color": "white"
             }
            },
            "header": {
             "fill": {
              "color": "#C8D4E3"
             },
             "line": {
              "color": "white"
             }
            },
            "type": "table"
           }
          ]
         },
         "layout": {
          "annotationdefaults": {
           "arrowcolor": "#2a3f5f",
           "arrowhead": 0,
           "arrowwidth": 1
          },
          "autotypenumbers": "strict",
          "coloraxis": {
           "colorbar": {
            "outlinewidth": 0,
            "ticks": ""
           }
          },
          "colorscale": {
           "diverging": [
            [
             0,
             "#8e0152"
            ],
            [
             0.1,
             "#c51b7d"
            ],
            [
             0.2,
             "#de77ae"
            ],
            [
             0.3,
             "#f1b6da"
            ],
            [
             0.4,
             "#fde0ef"
            ],
            [
             0.5,
             "#f7f7f7"
            ],
            [
             0.6,
             "#e6f5d0"
            ],
            [
             0.7,
             "#b8e186"
            ],
            [
             0.8,
             "#7fbc41"
            ],
            [
             0.9,
             "#4d9221"
            ],
            [
             1,
             "#276419"
            ]
           ],
           "sequential": [
            [
             0,
             "#0d0887"
            ],
            [
             0.1111111111111111,
             "#46039f"
            ],
            [
             0.2222222222222222,
             "#7201a8"
            ],
            [
             0.3333333333333333,
             "#9c179e"
            ],
            [
             0.4444444444444444,
             "#bd3786"
            ],
            [
             0.5555555555555556,
             "#d8576b"
            ],
            [
             0.6666666666666666,
             "#ed7953"
            ],
            [
             0.7777777777777778,
             "#fb9f3a"
            ],
            [
             0.8888888888888888,
             "#fdca26"
            ],
            [
             1,
             "#f0f921"
            ]
           ],
           "sequentialminus": [
            [
             0,
             "#0d0887"
            ],
            [
             0.1111111111111111,
             "#46039f"
            ],
            [
             0.2222222222222222,
             "#7201a8"
            ],
            [
             0.3333333333333333,
             "#9c179e"
            ],
            [
             0.4444444444444444,
             "#bd3786"
            ],
            [
             0.5555555555555556,
             "#d8576b"
            ],
            [
             0.6666666666666666,
             "#ed7953"
            ],
            [
             0.7777777777777778,
             "#fb9f3a"
            ],
            [
             0.8888888888888888,
             "#fdca26"
            ],
            [
             1,
             "#f0f921"
            ]
           ]
          },
          "colorway": [
           "#636efa",
           "#EF553B",
           "#00cc96",
           "#ab63fa",
           "#FFA15A",
           "#19d3f3",
           "#FF6692",
           "#B6E880",
           "#FF97FF",
           "#FECB52"
          ],
          "font": {
           "color": "#2a3f5f"
          },
          "geo": {
           "bgcolor": "white",
           "lakecolor": "white",
           "landcolor": "#E5ECF6",
           "showlakes": true,
           "showland": true,
           "subunitcolor": "white"
          },
          "hoverlabel": {
           "align": "left"
          },
          "hovermode": "closest",
          "mapbox": {
           "style": "light"
          },
          "paper_bgcolor": "white",
          "plot_bgcolor": "#E5ECF6",
          "polar": {
           "angularaxis": {
            "gridcolor": "white",
            "linecolor": "white",
            "ticks": ""
           },
           "bgcolor": "#E5ECF6",
           "radialaxis": {
            "gridcolor": "white",
            "linecolor": "white",
            "ticks": ""
           }
          },
          "scene": {
           "xaxis": {
            "backgroundcolor": "#E5ECF6",
            "gridcolor": "white",
            "gridwidth": 2,
            "linecolor": "white",
            "showbackground": true,
            "ticks": "",
            "zerolinecolor": "white"
           },
           "yaxis": {
            "backgroundcolor": "#E5ECF6",
            "gridcolor": "white",
            "gridwidth": 2,
            "linecolor": "white",
            "showbackground": true,
            "ticks": "",
            "zerolinecolor": "white"
           },
           "zaxis": {
            "backgroundcolor": "#E5ECF6",
            "gridcolor": "white",
            "gridwidth": 2,
            "linecolor": "white",
            "showbackground": true,
            "ticks": "",
            "zerolinecolor": "white"
           }
          },
          "shapedefaults": {
           "line": {
            "color": "#2a3f5f"
           }
          },
          "ternary": {
           "aaxis": {
            "gridcolor": "white",
            "linecolor": "white",
            "ticks": ""
           },
           "baxis": {
            "gridcolor": "white",
            "linecolor": "white",
            "ticks": ""
           },
           "bgcolor": "#E5ECF6",
           "caxis": {
            "gridcolor": "white",
            "linecolor": "white",
            "ticks": ""
           }
          },
          "title": {
           "x": 0.05
          },
          "xaxis": {
           "automargin": true,
           "gridcolor": "white",
           "linecolor": "white",
           "ticks": "",
           "title": {
            "standoff": 15
           },
           "zerolinecolor": "white",
           "zerolinewidth": 2
          },
          "yaxis": {
           "automargin": true,
           "gridcolor": "white",
           "linecolor": "white",
           "ticks": "",
           "title": {
            "standoff": 15
           },
           "zerolinecolor": "white",
           "zerolinewidth": 2
          }
         }
        },
        "title": {
         "text": "<b>Debt service ratio for new mortgage</b>"
        },
        "updatemenus": [
         {
          "buttons": [
           {
            "args": [
             null,
             {
              "frame": {
               "duration": 500,
               "redraw": true
              },
              "fromcurrent": true,
              "mode": "immediate",
              "transition": {
               "duration": 500,
               "easing": "linear"
              }
             }
            ],
            "label": "&#9654;",
            "method": "animate"
           },
           {
            "args": [
             [
              null
             ],
             {
              "frame": {
               "duration": 0,
               "redraw": true
              },
              "fromcurrent": true,
              "mode": "immediate",
              "transition": {
               "duration": 0,
               "easing": "linear"
              }
             }
            ],
            "label": "&#9724;",
            "method": "animate"
           }
          ],
          "direction": "left",
          "pad": {
           "r": 10,
           "t": 70
          },
          "showactive": false,
          "type": "buttons",
          "x": 0.1,
          "xanchor": "right",
          "y": 0,
          "yanchor": "top"
         }
        ]
       }
      }
     },
     "metadata": {},
     "output_type": "display_data"
    }
   ],
   "source": [
    "fig = px.choropleth(df,\n",
    "                    locations=\"cartodb_id\",\n",
    "                    geojson=\"https://raw.githubusercontent.com/Tenzinomics/click_that_hood/main/public/data/canada.geojson\",\n",
    "                    featureidkey=\"properties.cartodb_id\",\n",
    "                    color=\"category\",\n",
    "                    color_discrete_map={\n",
    "                        'N/A': '#F2F2F2',\n",
    "                        '0 - 10' : '#F0F2DF',\n",
    "                        '10 - 20' : '#B0D1D9',\n",
    "                        '20 - 30' : '#8AA6BF',\n",
    "                        '30 - 40' : '#587AA6',\n",
    "                        '40 +' : '#35528C'\n",
    "                    },\n",
    "                    category_orders={\n",
    "                      'category' : [\n",
    "                        'N/A',\n",
    "                        '0 - 10',\n",
    "                        '10 - 20',\n",
    "                        '20 - 30',\n",
    "                        '30 - 40',\n",
    "                        '40 +'\n",
    "                      ]\n",
    "                    },\n",
    "                    animation_frame=\"date\",\n",
    "                    scope='north america',\n",
    "                    title='<b>Debt service ratio for new mortgage</b>',\n",
    "                    labels={'mort_income_port' : ' %',\n",
    "                            'category' : 'Category'},\n",
    "                    hover_name='Provinces',\n",
    "                    hover_data={\n",
    "                        'mort_income_port' : True,\n",
    "                        'cartodb_id' : False\n",
    "                    },\n",
    "                    #height=700,\n",
    "                    locationmode='geojson-id',\n",
    "                    )\n",
    "\n",
    "# Adjust map layout stylings\n",
    "fig.update_layout(\n",
    "    showlegend=True,\n",
    "    legend_title_text='<b>In %</b>',\n",
    "    font={\"size\": 18, \"color\": \"#808080\", \"family\" : \"calibri\"},\n",
    "    margin={\"r\":400,\"t\":60,\"l\":0,\"b\":0},\n",
    "    legend=dict(orientation='v'),\n",
    "    geo=dict(bgcolor='rgba(0,0,0,0)', lakecolor='#fffcfc')\n",
    ")\n",
    "\n",
    "# Adjust map geo options\n",
    "fig.update_geos(showcountries=False, showcoastlines=False,\n",
    "                showland=False, fitbounds=\"locations\",\n",
    "                subunitcolor='white')\n",
    "fig.show()"
   ]
  },
  {
   "cell_type": "code",
   "execution_count": 10,
   "metadata": {},
   "outputs": [],
   "source": [
    "#fig.write_html(\"Geomap of New Mortgage Quarterly Payment as Percentage of Quarterly Median Income.html\")"
   ]
  }
 ],
 "metadata": {
  "kernelspec": {
   "display_name": "Python 3.9.7 ('base')",
   "language": "python",
   "name": "python3"
  },
  "language_info": {
   "codemirror_mode": {
    "name": "ipython",
    "version": 3
   },
   "file_extension": ".py",
   "mimetype": "text/x-python",
   "name": "python",
   "nbconvert_exporter": "python",
   "pygments_lexer": "ipython3",
   "version": "3.9.7"
  },
  "orig_nbformat": 4,
  "vscode": {
   "interpreter": {
    "hash": "17aed27dadd270e4b77bce2034d2f99cca6e3b5bab2bdb63ea4acd13fc665357"
   }
  }
 },
 "nbformat": 4,
 "nbformat_minor": 2
}
